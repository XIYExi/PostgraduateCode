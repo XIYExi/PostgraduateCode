{
 "cells": [
  {
   "cell_type": "code",
   "execution_count": 11,
   "id": "initial_id",
   "metadata": {
    "collapsed": true,
    "ExecuteTime": {
     "end_time": "2024-09-06T06:12:26.096735900Z",
     "start_time": "2024-09-06T06:12:25.271557600Z"
    }
   },
   "outputs": [],
   "source": [
    "import pandas as pd\n",
    "import torch\n",
    "import numpy as np\n",
    "import random\n",
    "import copy\n",
    "import math\n",
    "from scipy.sparse import csr_matrix"
   ]
  },
  {
   "cell_type": "code",
   "outputs": [],
   "source": [
    "data_file = '../data/Toys_and_Games.txt'\n",
    "lines = open(data_file).readlines()\n",
    "user_seq = []\n",
    "item_set = set()\n",
    "for line in lines:\n",
    "    user, items = line.strip().split(' ', 1)\n",
    "    items = items.split(' ')\n",
    "    items = [int(item) for item in items]\n",
    "    user_seq.append(items)\n",
    "    item_set = item_set | set(items)\n",
    "    \n",
    "# 11924\n",
    "max_item = max(item_set)  # 最大item的编号\n",
    "\n",
    "# 19412\n",
    "num_users = len(lines)  # 用户数量\n",
    "\n",
    "# 11926\n",
    "num_items = max_item + 2  # items数量（为什么要加2？）"
   ],
   "metadata": {
    "collapsed": false,
    "ExecuteTime": {
     "end_time": "2024-09-06T05:59:09.782670500Z",
     "start_time": "2024-09-06T05:59:08.301427400Z"
    }
   },
   "id": "41cdafa7f192148c",
   "execution_count": 3
  },
  {
   "cell_type": "code",
   "outputs": [],
   "source": [
    "def generate_rating_matrix_train(user_seq, num_users, num_items):\n",
    "    row = []\n",
    "    col = []\n",
    "    data = []\n",
    "    for user_id, item_list in enumerate(user_seq):\n",
    "        for item in item_list[:-2]:\n",
    "            row.append(user_id)\n",
    "            col.append(item)\n",
    "            data.append(1)\n",
    "            \n",
    "    row = np.array(row)\n",
    "    col = np.array(col)\n",
    "    data = np.array(data)\n",
    "    rating_matrix = csr_matrix((data, (row, col)), shape=(num_users, num_items))\n",
    "    return rating_matrix"
   ],
   "metadata": {
    "collapsed": false,
    "ExecuteTime": {
     "end_time": "2024-09-06T06:13:00.019939300Z",
     "start_time": "2024-09-06T06:12:59.996858400Z"
    }
   },
   "id": "f2b4b9694511df1f",
   "execution_count": 13
  },
  {
   "cell_type": "markdown",
   "source": [
    "## 载入数据\n",
    "user_seq  用户交互序列, 每一行对应当前userId-1，每一行数据为交互items的id\n",
    "\n",
    "\n",
    "max_item 最大item的id号\n",
    "\n",
    "\n",
    "num_users user的数量，就是交互序列的长度"
   ],
   "metadata": {
    "collapsed": false
   },
   "id": "2d31dabd662c026e"
  },
  {
   "cell_type": "code",
   "outputs": [],
   "source": [
    "from data_handle.utils.runner import get_user_seqs\n",
    "user_seq, max_item, num_users = get_user_seqs('../data/Toys_and_Games.txt')"
   ],
   "metadata": {
    "collapsed": false,
    "ExecuteTime": {
     "end_time": "2024-09-06T07:06:39.705964500Z",
     "start_time": "2024-09-06T07:06:38.469530100Z"
    }
   },
   "id": "3533902e1f0c9fd9",
   "execution_count": 42
  },
  {
   "cell_type": "code",
   "outputs": [],
   "source": [
    "item_size = max_item + 2  # max interaction seq + 4\n",
    "num_users = num_users     # user length\n",
    "mask_id = max_item + 1    # max interaction seq + 3"
   ],
   "metadata": {
    "collapsed": false,
    "ExecuteTime": {
     "end_time": "2024-09-06T07:10:09.761231500Z",
     "start_time": "2024-09-06T07:10:09.750610800Z"
    }
   },
   "id": "835be9b2f3edeca6",
   "execution_count": 43
  },
  {
   "cell_type": "markdown",
   "source": [
    "## 创建 DataLoader"
   ],
   "metadata": {
    "collapsed": false
   },
   "id": "67926c19a037fbd5"
  },
  {
   "cell_type": "code",
   "outputs": [],
   "source": [
    "from data_handle.utils.DataSet import CDDRecDataset\n",
    "\n",
    "# 训练集\n",
    "train_dataset = CDDRecDataset()"
   ],
   "metadata": {
    "collapsed": false,
    "ExecuteTime": {
     "end_time": "2024-09-06T06:20:21.854174Z",
     "start_time": "2024-09-06T06:20:21.836121800Z"
    }
   },
   "id": "44e293f4dbe74d7f",
   "execution_count": 35
  },
  {
   "cell_type": "code",
   "outputs": [],
   "source": [],
   "metadata": {
    "collapsed": false
   },
   "id": "6096ce0e32b0197b"
  }
 ],
 "metadata": {
  "kernelspec": {
   "display_name": "Python 3",
   "language": "python",
   "name": "python3"
  },
  "language_info": {
   "codemirror_mode": {
    "name": "ipython",
    "version": 2
   },
   "file_extension": ".py",
   "mimetype": "text/x-python",
   "name": "python",
   "nbconvert_exporter": "python",
   "pygments_lexer": "ipython2",
   "version": "2.7.6"
  }
 },
 "nbformat": 4,
 "nbformat_minor": 5
}
