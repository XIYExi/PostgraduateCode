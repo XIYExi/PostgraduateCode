{
 "cells": [
  {
   "cell_type": "code",
   "execution_count": 11,
   "id": "initial_id",
   "metadata": {
    "collapsed": true,
    "ExecuteTime": {
     "end_time": "2024-09-06T06:12:26.096735900Z",
     "start_time": "2024-09-06T06:12:25.271557600Z"
    }
   },
   "outputs": [],
   "source": [
    "import pandas as pd\n",
    "import torch\n",
    "import numpy as np\n",
    "import random\n",
    "import copy\n",
    "import math\n",
    "from scipy.sparse import csr_matrix"
   ]
  },
  {
   "cell_type": "code",
   "outputs": [],
   "source": [
    "data_file = '../data/Toys_and_Games.txt'\n",
    "lines = open(data_file).readlines()\n",
    "user_seq = []\n",
    "item_set = set()\n",
    "for line in lines:\n",
    "    user, items = line.strip().split(' ', 1)\n",
    "    items = items.split(' ')\n",
    "    items = [int(item) for item in items]\n",
    "    user_seq.append(items)\n",
    "    item_set = item_set | set(items)\n",
    "    \n",
    "# 11924\n",
    "max_item = max(item_set)  # 最大item的编号\n",
    "\n",
    "# 19412\n",
    "num_users = len(lines)  # 用户数量\n",
    "\n",
    "# 11926\n",
    "num_items = max_item + 2  # items数量（为什么要加2？）"
   ],
   "metadata": {
    "collapsed": false,
    "ExecuteTime": {
     "end_time": "2024-09-06T05:59:09.782670500Z",
     "start_time": "2024-09-06T05:59:08.301427400Z"
    }
   },
   "id": "41cdafa7f192148c",
   "execution_count": 3
  },
  {
   "cell_type": "code",
   "outputs": [],
   "source": [
    "def generate_rating_matrix_train(user_seq, num_users, num_items):\n",
    "    row = []\n",
    "    col = []\n",
    "    data = []\n",
    "    for user_id, item_list in enumerate(user_seq):\n",
    "        for item in item_list[:-2]:\n",
    "            row.append(user_id)\n",
    "            col.append(item)\n",
    "            data.append(1)\n",
    "            \n",
    "    row = np.array(row)\n",
    "    col = np.array(col)\n",
    "    data = np.array(data)\n",
    "    rating_matrix = csr_matrix((data, (row, col)), shape=(num_users, num_items))\n",
    "    return rating_matrix"
   ],
   "metadata": {
    "collapsed": false,
    "ExecuteTime": {
     "end_time": "2024-09-06T06:13:00.019939300Z",
     "start_time": "2024-09-06T06:12:59.996858400Z"
    }
   },
   "id": "f2b4b9694511df1f",
   "execution_count": 13
  },
  {
   "cell_type": "markdown",
   "source": [
    "## 载入数据\n",
    "user_seq  用户交互序列, 每一行对应当前userId-1，每一行数据为交互items的id\n",
    "\n",
    "\n",
    "max_item 最大item的id号\n",
    "\n",
    "\n",
    "num_users user的数量，就是交互序列的长度"
   ],
   "metadata": {
    "collapsed": false
   },
   "id": "2d31dabd662c026e"
  },
  {
   "cell_type": "code",
   "outputs": [],
   "source": [
    "from data_handle.utils.runner import get_user_seqs\n",
    "user_seq, max_item, num_users = get_user_seqs('../data/Toys_and_Games.txt')"
   ],
   "metadata": {
    "collapsed": false,
    "ExecuteTime": {
     "end_time": "2024-09-06T07:06:39.705964500Z",
     "start_time": "2024-09-06T07:06:38.469530100Z"
    }
   },
   "id": "3533902e1f0c9fd9",
   "execution_count": 42
  },
  {
   "cell_type": "code",
   "outputs": [],
   "source": [
    "item_size = max_item + 2  # max interaction seq + 4\n",
    "num_users = num_users     # user length\n",
    "mask_id = max_item + 1    # max interaction seq + 3"
   ],
   "metadata": {
    "collapsed": false,
    "ExecuteTime": {
     "end_time": "2024-09-06T07:10:09.761231500Z",
     "start_time": "2024-09-06T07:10:09.750610800Z"
    }
   },
   "id": "835be9b2f3edeca6",
   "execution_count": 43
  },
  {
   "cell_type": "markdown",
   "source": [
    "## 创建 DataLoader"
   ],
   "metadata": {
    "collapsed": false
   },
   "id": "67926c19a037fbd5"
  },
  {
   "cell_type": "code",
   "outputs": [],
   "source": [
    "from data_handle.utils.DataSet import CDDRecDataset\n",
    "from torch.utils.data import DataLoader, RandomSampler, SequentialSampler\n",
    "\n",
    "from data_handle.model.DemoRecModel import DemoRecModel\n",
    "\n",
    "# 训练集\n",
    "train_dataset = CDDRecDataset(\n",
    "    user_seq=user_seq,\n",
    "    max_seq_length=25, \n",
    "    item_size=item_size, \n",
    "    test_neg_items=None,\n",
    "    data_type='train'\n",
    ")\n",
    "train_sampler = RandomSampler(train_dataset)\n",
    "train_dataloader = DataLoader(train_dataset, sampler=train_sampler, batch_size=128)\n",
    "\n",
    "# TODO 验证集、测试集\n",
    "\n",
    "# Model\n",
    "model = DemoRecModel(\n",
    "    T=25,\n",
    "    hidden_size=128,\n",
    "    item_size=item_size,\n",
    "    max_seq_length=25,\n",
    "    num_attention_heads=2,\n",
    "    attention_probs_dropout_prob=0.2,\n",
    "    hidden_act='gelu',\n",
    "    hidden_dropout_prob=0.0,\n",
    "    linear_infonce=False,\n",
    "    initializer_range=0.02\n",
    ")"
   ],
   "metadata": {
    "collapsed": false,
    "ExecuteTime": {
     "end_time": "2024-09-06T09:00:46.329362500Z",
     "start_time": "2024-09-06T09:00:45.435536700Z"
    }
   },
   "id": "44e293f4dbe74d7f",
   "execution_count": 49
  },
  {
   "cell_type": "code",
   "outputs": [
    {
     "data": {
      "text/plain": "DemoRecModel(\n  (time_embeddings): Embedding(25, 128)\n  (item_embeddings): Embedding(11926, 128, padding_idx=0)\n  (position_embeddings): Embedding(25, 128)\n  (decoder): TransformerDecoderLayer(\n    (self_attn): MultiheadAttention(\n      (out_proj): NonDynamicallyQuantizableLinear(in_features=128, out_features=128, bias=True)\n    )\n    (multihead_attn): MultiheadAttention(\n      (out_proj): NonDynamicallyQuantizableLinear(in_features=128, out_features=128, bias=True)\n    )\n    (linear1): Linear(in_features=128, out_features=128, bias=True)\n    (dropout): Dropout(p=0.2, inplace=False)\n    (linear2): Linear(in_features=128, out_features=128, bias=True)\n    (norm1): LayerNorm((128,), eps=1e-05, elementwise_affine=True)\n    (norm2): LayerNorm((128,), eps=1e-05, elementwise_affine=True)\n    (norm3): LayerNorm((128,), eps=1e-05, elementwise_affine=True)\n    (dropout1): Dropout(p=0.2, inplace=False)\n    (dropout2): Dropout(p=0.2, inplace=False)\n    (dropout3): Dropout(p=0.2, inplace=False)\n  )\n  (LayerNorm): LayerNorm()\n  (dropout): Dropout(p=0.0, inplace=False)\n  (criterion): BCELoss()\n  (mse): MSELoss()\n)"
     },
     "execution_count": 50,
     "metadata": {},
     "output_type": "execute_result"
    }
   ],
   "source": [
    "model"
   ],
   "metadata": {
    "collapsed": false,
    "ExecuteTime": {
     "end_time": "2024-09-06T09:00:49.659305600Z",
     "start_time": "2024-09-06T09:00:49.645645200Z"
    }
   },
   "id": "6096ce0e32b0197b",
   "execution_count": 50
  },
  {
   "cell_type": "code",
   "outputs": [
    {
     "data": {
      "text/plain": "11924"
     },
     "execution_count": 52,
     "metadata": {},
     "output_type": "execute_result"
    }
   ],
   "source": [
    "len(item_set)"
   ],
   "metadata": {
    "collapsed": false,
    "ExecuteTime": {
     "end_time": "2024-09-06T09:04:44.237721500Z",
     "start_time": "2024-09-06T09:04:44.225695700Z"
    }
   },
   "id": "cdd5011509701bd7",
   "execution_count": 52
  },
  {
   "cell_type": "code",
   "outputs": [],
   "source": [
    "frequency_items_dict = dict()\n",
    "for idx, items in enumerate(user_seq):\n",
    "    userId = idx + 1\n",
    "    for item in items:\n",
    "        if item in frequency_items_dict:\n",
    "            frequency_items_dict[item] = frequency_items_dict[item] + 1\n",
    "        else:\n",
    "            frequency_items_dict[item] = 1"
   ],
   "metadata": {
    "collapsed": false,
    "ExecuteTime": {
     "end_time": "2024-09-06T09:12:03.933864800Z",
     "start_time": "2024-09-06T09:12:03.847876300Z"
    }
   },
   "id": "c47eba036aa32601",
   "execution_count": 56
  },
  {
   "cell_type": "code",
   "outputs": [
    {
     "data": {
      "text/plain": "6"
     },
     "execution_count": 116,
     "metadata": {},
     "output_type": "execute_result"
    }
   ],
   "source": [
    "frequency_items_dict[362]"
   ],
   "metadata": {
    "collapsed": false,
    "ExecuteTime": {
     "end_time": "2024-09-07T01:31:58.202888900Z",
     "start_time": "2024-09-07T01:31:58.188807900Z"
    }
   },
   "id": "f119f40043e7c418",
   "execution_count": 116
  },
  {
   "cell_type": "code",
   "outputs": [],
   "source": [
    "device = torch.device(\"cuda\" if torch.cuda.is_available() else \"cpu\")"
   ],
   "metadata": {
    "collapsed": false,
    "ExecuteTime": {
     "end_time": "2024-09-07T01:14:11.350426200Z",
     "start_time": "2024-09-07T01:14:11.330868900Z"
    }
   },
   "id": "d4f0684792f81a46",
   "execution_count": 79
  },
  {
   "cell_type": "code",
   "outputs": [
    {
     "data": {
      "text/plain": "15"
     },
     "execution_count": 152,
     "metadata": {},
     "output_type": "execute_result"
    }
   ],
   "source": [
    "# 流行度阈值\n",
    "frequency_threshold = math.ceil(sum(frequency_items_dict.values()) / len(frequency_items_dict.values()))\n",
    "\n",
    "\n",
    "# frequency_threshold = math.ceil((max(frequency_items_dict.values()) + frequency_threshold)/2)\n",
    "\n",
    "\n",
    "frequency_threshold"
   ],
   "metadata": {
    "collapsed": false,
    "ExecuteTime": {
     "end_time": "2024-09-07T01:42:55.700687900Z",
     "start_time": "2024-09-07T01:42:55.688100200Z"
    }
   },
   "id": "e76122098c0f0c01",
   "execution_count": 152
  },
  {
   "cell_type": "code",
   "outputs": [
    {
     "name": "stdout",
     "output_type": "stream",
     "text": [
      "userId:  torch.Size([128])\n",
      "input_ids:  torch.Size([128, 25])\n"
     ]
    }
   ],
   "source": [
    "for idx, data in enumerate(train_dataloader):\n",
    "    if idx == 0:\n",
    "        #print(f\"Data shape: {data}\")\n",
    "        batch = tuple(t.to(device) for t in data)\n",
    "        userId, input_ids, target_pos, target_neg, answer = batch\n",
    "        print(\"userId: \", userId.shape)        # 每一条交互序列对应的用户id\n",
    "        print(\"input_ids: \", input_ids.shape)  # 交互序列\n",
    "        \n",
    "        # 创建一个流程物品mask矩阵用来做掩码，遮蔽掉流行度大于阈值的数据\n",
    "        frequency_items_mask = torch.zeros_like(input_ids).to(device)\n",
    "        \n",
    "        for i in range(input_ids.size(0)):\n",
    "            for j in range(input_ids.size(1)):\n",
    "                if input_ids[i, j].item() == 0:\n",
    "                    frequency_items_mask[i, j] = 1\n",
    "                    continue\n",
    "                # j 是当前行的第 j 个item 编号，直接通过 [i, j]去dict里面查询是否大于流行度阈值\n",
    "                if frequency_items_dict[input_ids[i, j].item()] > frequency_threshold:\n",
    "                    frequency_items_mask[i, j] = 1"
   ],
   "metadata": {
    "collapsed": false,
    "ExecuteTime": {
     "end_time": "2024-09-07T01:43:44.256697500Z",
     "start_time": "2024-09-07T01:43:42.777442900Z"
    }
   },
   "id": "9b1cf339b51026b0",
   "execution_count": 155
  },
  {
   "cell_type": "code",
   "outputs": [
    {
     "data": {
      "text/plain": "tensor([[1, 1, 1,  ..., 1, 1, 1],\n        [1, 1, 1,  ..., 1, 1, 0],\n        [1, 1, 1,  ..., 1, 0, 0],\n        ...,\n        [1, 1, 1,  ..., 1, 1, 0],\n        [1, 1, 1,  ..., 1, 1, 0],\n        [1, 1, 1,  ..., 1, 1, 1]], device='cuda:0')"
     },
     "execution_count": 158,
     "metadata": {},
     "output_type": "execute_result"
    }
   ],
   "source": [
    "frequency_items_mask"
   ],
   "metadata": {
    "collapsed": false,
    "ExecuteTime": {
     "end_time": "2024-09-07T01:48:49.784122900Z",
     "start_time": "2024-09-07T01:48:49.742894200Z"
    }
   },
   "id": "fd98d8ad9cd15d6",
   "execution_count": 158
  },
  {
   "cell_type": "code",
   "outputs": [
    {
     "data": {
      "text/plain": "tensor([    0,     0,     0,     0,     0,     0,     0,     0,     0,     0,\n            0,     0,     0,     0,     0,     0,     0,     0,     0, 10753,\n         8100,  2399,  2594,  4119,  1830], device='cuda:0')"
     },
     "execution_count": 157,
     "metadata": {},
     "output_type": "execute_result"
    }
   ],
   "source": [
    "input_ids[5]"
   ],
   "metadata": {
    "collapsed": false,
    "ExecuteTime": {
     "end_time": "2024-09-07T01:43:47.484693300Z",
     "start_time": "2024-09-07T01:43:47.462673800Z"
    }
   },
   "id": "3cc71bed5b98b132",
   "execution_count": 157
  },
  {
   "cell_type": "code",
   "outputs": [
    {
     "data": {
      "text/plain": "21"
     },
     "execution_count": 149,
     "metadata": {},
     "output_type": "execute_result"
    }
   ],
   "source": [
    "frequency_items_dict[9168]"
   ],
   "metadata": {
    "collapsed": false,
    "ExecuteTime": {
     "end_time": "2024-09-07T01:40:53.713830300Z",
     "start_time": "2024-09-07T01:40:53.685803900Z"
    }
   },
   "id": "1d055959fbae76ca",
   "execution_count": 149
  },
  {
   "cell_type": "code",
   "outputs": [],
   "source": [],
   "metadata": {
    "collapsed": false
   },
   "id": "bd4228be298a8a87"
  }
 ],
 "metadata": {
  "kernelspec": {
   "display_name": "Python 3",
   "language": "python",
   "name": "python3"
  },
  "language_info": {
   "codemirror_mode": {
    "name": "ipython",
    "version": 2
   },
   "file_extension": ".py",
   "mimetype": "text/x-python",
   "name": "python",
   "nbconvert_exporter": "python",
   "pygments_lexer": "ipython2",
   "version": "2.7.6"
  }
 },
 "nbformat": 4,
 "nbformat_minor": 5
}
