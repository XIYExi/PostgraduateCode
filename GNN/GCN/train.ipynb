{
 "cells": [
  {
   "cell_type": "code",
   "execution_count": 89,
   "metadata": {
    "collapsed": true
   },
   "outputs": [],
   "source": [
    "import os\n",
    "\n",
    "import torch\n",
    "import torch.nn.functional as F\n",
    "import torch.optim as optimizer\n",
    "\n",
    "from GCN import GCN\n",
    "from util import load_data, accuracy"
   ]
  },
  {
   "cell_type": "code",
   "execution_count": 90,
   "outputs": [],
   "source": [
    "os.environ['KMP_DUPLICATE_LIB_OK'] = 'TRUE'"
   ],
   "metadata": {
    "collapsed": false,
    "pycharm": {
     "name": "#%%\n"
    }
   }
  },
  {
   "cell_type": "code",
   "execution_count": 91,
   "outputs": [],
   "source": [
    "# 参数配置\n",
    "hidden = 32\n",
    "lr = 0.01\n",
    "weight_decay = 5e-4\n",
    "idx_train = range(140)\n",
    "idx_val = range(200, 500)\n",
    "idx_test = range(500, 1500)\n",
    "dropout = 0.5\n",
    "# 数据集为cora或citeseer\n",
    "dataset = 'cora'"
   ],
   "metadata": {
    "collapsed": false,
    "pycharm": {
     "name": "#%%\n"
    }
   }
  },
  {
   "cell_type": "code",
   "execution_count": 92,
   "outputs": [],
   "source": [
    "\"\"\"\n",
    "adj_matrix: 自邻接矩阵\n",
    "features: 表征\n",
    "labels: 标签\n",
    "\"\"\"\n",
    "adj_matrix, features, labels = load_data(dataset)"
   ],
   "metadata": {
    "collapsed": false,
    "pycharm": {
     "name": "#%%\n"
    }
   }
  },
  {
   "cell_type": "code",
   "execution_count": 93,
   "outputs": [
    {
     "data": {
      "text/plain": "6"
     },
     "execution_count": 93,
     "metadata": {},
     "output_type": "execute_result"
    }
   ],
   "source": [
    "labels.max().item()"
   ],
   "metadata": {
    "collapsed": false,
    "pycharm": {
     "name": "#%%\n"
    }
   }
  },
  {
   "cell_type": "markdown",
   "source": [
    "邻接矩阵 adj_matrix [N, N] [2708, 2708]\n",
    "\n",
    "输入的特征矩阵 features(X) [N, C] [2708, 1433]\n",
    "\n",
    "第一个卷积层 layer_1 [C, hidden] [1433, 32]\n",
    "\n",
    "第二个卷积层 layer_2 [hidden, classes] [32, 7]\n",
    "\n",
    "$$Z = A*softmax(A*Relu(A*X*W_0)*W_1)$$"
   ],
   "metadata": {
    "collapsed": false,
    "pycharm": {
     "name": "#%% md\n"
    }
   }
  },
  {
   "cell_type": "code",
   "execution_count": 94,
   "outputs": [],
   "source": [
    "model = GCN(\n",
    "    features=features.shape[1],\n",
    "    hidden=hidden,\n",
    "    classes=labels.max().item() + 1,\n",
    "    dropout=dropout\n",
    ")"
   ],
   "metadata": {
    "collapsed": false,
    "pycharm": {
     "name": "#%%\n"
    }
   }
  },
  {
   "cell_type": "code",
   "execution_count": 95,
   "outputs": [],
   "source": [
    "optimizer = optimizer.Adam(\n",
    "    model.parameters(),\n",
    "    lr=lr,\n",
    "    weight_decay=weight_decay\n",
    ")"
   ],
   "metadata": {
    "collapsed": false,
    "pycharm": {
     "name": "#%%\n"
    }
   }
  },
  {
   "cell_type": "code",
   "execution_count": 96,
   "outputs": [],
   "source": [
    "if torch.cuda.is_available():\n",
    "    model = model.cuda()\n",
    "    features = features.cuda()\n",
    "    adj_matrix = adj_matrix.cuda()\n",
    "    labels = labels.cuda()"
   ],
   "metadata": {
    "collapsed": false,
    "pycharm": {
     "name": "#%%\n"
    }
   }
  },
  {
   "cell_type": "code",
   "execution_count": 97,
   "outputs": [],
   "source": [
    "import matplotlib.pyplot as plt\n",
    "loss_train_list = []\n",
    "acc_train_list = []\n",
    "loss_val_list = []\n",
    "acc_val_list = []"
   ],
   "metadata": {
    "collapsed": false,
    "pycharm": {
     "name": "#%%\n"
    }
   }
  },
  {
   "cell_type": "code",
   "execution_count": 98,
   "outputs": [],
   "source": [
    "def train(epoch):\n",
    "    model.train()\n",
    "    optimizer.zero_grad()\n",
    "    output = model(features, adj_matrix)\n",
    "    loss_train = F.nll_loss(output[idx_train], labels[idx_train])\n",
    "    acc_train = accuracy(output[idx_train], labels[idx_train])\n",
    "    loss_train.backward()\n",
    "    optimizer.step()\n",
    "\n",
    "    loss_val = F.nll_loss(output[idx_val], labels[idx_val])\n",
    "    acc_val = accuracy(output[idx_val], labels[idx_val])\n",
    "    print('Epoch: {:04d}'.format(epoch + 1),\n",
    "          'loss_train: {:.4f}'.format(loss_train.item()),\n",
    "          'acc_train: {:.4f}'.format(acc_train.item()),\n",
    "          'loss_val: {:.4f}'.format(loss_val.item()),\n",
    "          'acc_val: {:.4f}'.format(acc_val.item()))\n",
    "    loss_train_list.append(loss_train.item())\n",
    "    acc_train_list.append(acc_train.item())\n",
    "    loss_val_list.append(loss_val.item())\n",
    "    acc_val_list.append(acc_val.item())"
   ],
   "metadata": {
    "collapsed": false,
    "pycharm": {
     "name": "#%%\n"
    }
   }
  },
  {
   "cell_type": "code",
   "execution_count": 99,
   "outputs": [],
   "source": [
    "def test():\n",
    "    model.eval()\n",
    "    output = model(features, adj_matrix)\n",
    "    loss_test = F.nll_loss(output[idx_test], labels[idx_test])\n",
    "    acc_test = accuracy(output[idx_test], labels[idx_test])\n",
    "    print(\"Test set results:\",\n",
    "          \"loss= {:.4f}\".format(loss_test.item()),\n",
    "          \"accuracy= {:.4f}\".format(acc_test.item()))"
   ],
   "metadata": {
    "collapsed": false,
    "pycharm": {
     "name": "#%%\n"
    }
   }
  },
  {
   "cell_type": "code",
   "execution_count": 100,
   "outputs": [
    {
     "name": "stdout",
     "output_type": "stream",
     "text": [
      "Epoch: 0001 loss_train: 1.9448 acc_train: 0.1571 loss_val: 1.9379 acc_val: 0.1667\n",
      "Epoch: 0002 loss_train: 1.6878 acc_train: 0.6214 loss_val: 1.7634 acc_val: 0.5167\n",
      "Epoch: 0003 loss_train: 1.4655 acc_train: 0.6786 loss_val: 1.5967 acc_val: 0.5567\n",
      "Epoch: 0004 loss_train: 1.2516 acc_train: 0.7429 loss_val: 1.4604 acc_val: 0.6267\n",
      "Epoch: 0005 loss_train: 1.0161 acc_train: 0.8143 loss_val: 1.2790 acc_val: 0.6867\n",
      "Epoch: 0006 loss_train: 0.8429 acc_train: 0.8500 loss_val: 1.1521 acc_val: 0.7300\n",
      "Epoch: 0007 loss_train: 0.7148 acc_train: 0.9071 loss_val: 1.0195 acc_val: 0.7433\n",
      "Epoch: 0008 loss_train: 0.5822 acc_train: 0.9071 loss_val: 0.9239 acc_val: 0.7833\n",
      "Epoch: 0009 loss_train: 0.4686 acc_train: 0.9429 loss_val: 0.8499 acc_val: 0.8033\n",
      "Epoch: 0010 loss_train: 0.3909 acc_train: 0.9714 loss_val: 0.7897 acc_val: 0.8033\n",
      "Epoch: 0011 loss_train: 0.3381 acc_train: 0.9429 loss_val: 0.7157 acc_val: 0.8300\n",
      "Epoch: 0012 loss_train: 0.2723 acc_train: 0.9643 loss_val: 0.7078 acc_val: 0.8100\n",
      "Epoch: 0013 loss_train: 0.2338 acc_train: 0.9714 loss_val: 0.6559 acc_val: 0.8433\n",
      "Epoch: 0014 loss_train: 0.1956 acc_train: 0.9714 loss_val: 0.6229 acc_val: 0.8067\n",
      "Epoch: 0015 loss_train: 0.1668 acc_train: 0.9714 loss_val: 0.6407 acc_val: 0.8100\n",
      "Epoch: 0016 loss_train: 0.1330 acc_train: 0.9857 loss_val: 0.6241 acc_val: 0.8367\n",
      "Epoch: 0017 loss_train: 0.1488 acc_train: 0.9643 loss_val: 0.5956 acc_val: 0.8033\n",
      "Epoch: 0018 loss_train: 0.1132 acc_train: 0.9786 loss_val: 0.6623 acc_val: 0.8033\n",
      "Epoch: 0019 loss_train: 0.0821 acc_train: 0.9929 loss_val: 0.6377 acc_val: 0.8133\n",
      "Epoch: 0020 loss_train: 0.1060 acc_train: 0.9786 loss_val: 0.6601 acc_val: 0.8067\n",
      "Epoch: 0021 loss_train: 0.0777 acc_train: 0.9857 loss_val: 0.6260 acc_val: 0.8167\n",
      "Epoch: 0022 loss_train: 0.0744 acc_train: 0.9857 loss_val: 0.6676 acc_val: 0.8300\n",
      "Epoch: 0023 loss_train: 0.0612 acc_train: 0.9929 loss_val: 0.6571 acc_val: 0.8000\n",
      "Epoch: 0024 loss_train: 0.0669 acc_train: 0.9786 loss_val: 0.5975 acc_val: 0.8167\n",
      "Epoch: 0025 loss_train: 0.0552 acc_train: 0.9929 loss_val: 0.7092 acc_val: 0.8033\n",
      "Epoch: 0026 loss_train: 0.0473 acc_train: 1.0000 loss_val: 0.6665 acc_val: 0.8100\n",
      "Epoch: 0027 loss_train: 0.0399 acc_train: 0.9929 loss_val: 0.6335 acc_val: 0.8200\n",
      "Epoch: 0028 loss_train: 0.0406 acc_train: 1.0000 loss_val: 0.7220 acc_val: 0.8067\n",
      "Epoch: 0029 loss_train: 0.0352 acc_train: 1.0000 loss_val: 0.7092 acc_val: 0.8033\n",
      "Epoch: 0030 loss_train: 0.0542 acc_train: 0.9786 loss_val: 0.6754 acc_val: 0.8300\n",
      "Epoch: 0031 loss_train: 0.0537 acc_train: 0.9857 loss_val: 0.6618 acc_val: 0.8200\n",
      "Epoch: 0032 loss_train: 0.0451 acc_train: 0.9786 loss_val: 0.7214 acc_val: 0.8133\n",
      "Epoch: 0033 loss_train: 0.0262 acc_train: 1.0000 loss_val: 0.7326 acc_val: 0.8133\n",
      "Epoch: 0034 loss_train: 0.0382 acc_train: 0.9929 loss_val: 0.6659 acc_val: 0.8267\n",
      "Epoch: 0035 loss_train: 0.0388 acc_train: 0.9857 loss_val: 0.6956 acc_val: 0.8067\n",
      "Epoch: 0036 loss_train: 0.0300 acc_train: 0.9929 loss_val: 0.6805 acc_val: 0.8200\n",
      "Epoch: 0037 loss_train: 0.0319 acc_train: 0.9929 loss_val: 0.6766 acc_val: 0.8300\n",
      "Epoch: 0038 loss_train: 0.0279 acc_train: 1.0000 loss_val: 0.7035 acc_val: 0.8167\n",
      "Epoch: 0039 loss_train: 0.0203 acc_train: 1.0000 loss_val: 0.6910 acc_val: 0.8133\n",
      "Epoch: 0040 loss_train: 0.0254 acc_train: 1.0000 loss_val: 0.6956 acc_val: 0.8333\n",
      "Epoch: 0041 loss_train: 0.0225 acc_train: 1.0000 loss_val: 0.6883 acc_val: 0.8133\n",
      "Epoch: 0042 loss_train: 0.0190 acc_train: 1.0000 loss_val: 0.7899 acc_val: 0.7933\n",
      "Epoch: 0043 loss_train: 0.0243 acc_train: 1.0000 loss_val: 0.7333 acc_val: 0.8033\n",
      "Epoch: 0044 loss_train: 0.0282 acc_train: 0.9929 loss_val: 0.7350 acc_val: 0.8033\n",
      "Epoch: 0045 loss_train: 0.0177 acc_train: 1.0000 loss_val: 0.7340 acc_val: 0.8033\n",
      "Epoch: 0046 loss_train: 0.0265 acc_train: 1.0000 loss_val: 0.7132 acc_val: 0.8167\n",
      "Epoch: 0047 loss_train: 0.0305 acc_train: 0.9929 loss_val: 0.6910 acc_val: 0.8033\n",
      "Epoch: 0048 loss_train: 0.0186 acc_train: 1.0000 loss_val: 0.6431 acc_val: 0.8133\n",
      "Epoch: 0049 loss_train: 0.0244 acc_train: 1.0000 loss_val: 0.7487 acc_val: 0.7767\n",
      "Epoch: 0050 loss_train: 0.0206 acc_train: 1.0000 loss_val: 0.7321 acc_val: 0.8067\n",
      "Epoch: 0051 loss_train: 0.0283 acc_train: 0.9929 loss_val: 0.7246 acc_val: 0.8000\n",
      "Epoch: 0052 loss_train: 0.0234 acc_train: 1.0000 loss_val: 0.7951 acc_val: 0.8000\n",
      "Epoch: 0053 loss_train: 0.0264 acc_train: 1.0000 loss_val: 0.7492 acc_val: 0.8100\n",
      "Epoch: 0054 loss_train: 0.0316 acc_train: 0.9929 loss_val: 0.6987 acc_val: 0.7967\n",
      "Epoch: 0055 loss_train: 0.0270 acc_train: 1.0000 loss_val: 0.7498 acc_val: 0.8100\n",
      "Epoch: 0056 loss_train: 0.0379 acc_train: 1.0000 loss_val: 0.7277 acc_val: 0.8000\n",
      "Epoch: 0057 loss_train: 0.0245 acc_train: 1.0000 loss_val: 0.7081 acc_val: 0.8133\n",
      "Epoch: 0058 loss_train: 0.0225 acc_train: 1.0000 loss_val: 0.7662 acc_val: 0.8000\n",
      "Epoch: 0059 loss_train: 0.0293 acc_train: 0.9929 loss_val: 0.7752 acc_val: 0.7967\n",
      "Epoch: 0060 loss_train: 0.0340 acc_train: 1.0000 loss_val: 0.7601 acc_val: 0.7900\n",
      "Epoch: 0061 loss_train: 0.0234 acc_train: 1.0000 loss_val: 0.7330 acc_val: 0.8100\n",
      "Epoch: 0062 loss_train: 0.0244 acc_train: 1.0000 loss_val: 0.7238 acc_val: 0.8033\n",
      "Epoch: 0063 loss_train: 0.0177 acc_train: 1.0000 loss_val: 0.7187 acc_val: 0.8033\n",
      "Epoch: 0064 loss_train: 0.0174 acc_train: 1.0000 loss_val: 0.7136 acc_val: 0.8000\n",
      "Epoch: 0065 loss_train: 0.0214 acc_train: 1.0000 loss_val: 0.6771 acc_val: 0.8100\n",
      "Epoch: 0066 loss_train: 0.0220 acc_train: 1.0000 loss_val: 0.6827 acc_val: 0.8100\n",
      "Epoch: 0067 loss_train: 0.0220 acc_train: 1.0000 loss_val: 0.6334 acc_val: 0.8167\n",
      "Epoch: 0068 loss_train: 0.0215 acc_train: 1.0000 loss_val: 0.6908 acc_val: 0.8133\n",
      "Epoch: 0069 loss_train: 0.0320 acc_train: 1.0000 loss_val: 0.6558 acc_val: 0.8167\n",
      "Epoch: 0070 loss_train: 0.0225 acc_train: 0.9929 loss_val: 0.6314 acc_val: 0.7967\n",
      "Epoch: 0071 loss_train: 0.0291 acc_train: 1.0000 loss_val: 0.6600 acc_val: 0.7967\n",
      "Epoch: 0072 loss_train: 0.0194 acc_train: 1.0000 loss_val: 0.6583 acc_val: 0.8300\n",
      "Epoch: 0073 loss_train: 0.0346 acc_train: 0.9929 loss_val: 0.6376 acc_val: 0.7933\n",
      "Epoch: 0074 loss_train: 0.0188 acc_train: 1.0000 loss_val: 0.6619 acc_val: 0.8067\n",
      "Epoch: 0075 loss_train: 0.0315 acc_train: 0.9929 loss_val: 0.6763 acc_val: 0.8167\n",
      "Epoch: 0076 loss_train: 0.0204 acc_train: 1.0000 loss_val: 0.6346 acc_val: 0.8200\n",
      "Epoch: 0077 loss_train: 0.0278 acc_train: 1.0000 loss_val: 0.6717 acc_val: 0.8133\n",
      "Epoch: 0078 loss_train: 0.0236 acc_train: 1.0000 loss_val: 0.7001 acc_val: 0.8233\n",
      "Epoch: 0079 loss_train: 0.0312 acc_train: 1.0000 loss_val: 0.7322 acc_val: 0.7967\n",
      "Epoch: 0080 loss_train: 0.0212 acc_train: 1.0000 loss_val: 0.7625 acc_val: 0.7967\n",
      "Epoch: 0081 loss_train: 0.0211 acc_train: 1.0000 loss_val: 0.7222 acc_val: 0.8000\n",
      "Epoch: 0082 loss_train: 0.0174 acc_train: 1.0000 loss_val: 0.6876 acc_val: 0.8167\n",
      "Epoch: 0083 loss_train: 0.0277 acc_train: 1.0000 loss_val: 0.6753 acc_val: 0.7933\n",
      "Epoch: 0084 loss_train: 0.0209 acc_train: 1.0000 loss_val: 0.6911 acc_val: 0.8033\n",
      "Epoch: 0085 loss_train: 0.0195 acc_train: 1.0000 loss_val: 0.7414 acc_val: 0.8000\n",
      "Epoch: 0086 loss_train: 0.0207 acc_train: 1.0000 loss_val: 0.6515 acc_val: 0.8167\n",
      "Epoch: 0087 loss_train: 0.0229 acc_train: 1.0000 loss_val: 0.6937 acc_val: 0.8033\n",
      "Epoch: 0088 loss_train: 0.0260 acc_train: 1.0000 loss_val: 0.7080 acc_val: 0.8033\n",
      "Epoch: 0089 loss_train: 0.0192 acc_train: 1.0000 loss_val: 0.7053 acc_val: 0.8000\n",
      "Epoch: 0090 loss_train: 0.0201 acc_train: 1.0000 loss_val: 0.7205 acc_val: 0.7900\n",
      "Epoch: 0091 loss_train: 0.0330 acc_train: 1.0000 loss_val: 0.7304 acc_val: 0.7767\n",
      "Epoch: 0092 loss_train: 0.0252 acc_train: 1.0000 loss_val: 0.6861 acc_val: 0.8133\n",
      "Epoch: 0093 loss_train: 0.0190 acc_train: 1.0000 loss_val: 0.7032 acc_val: 0.7733\n",
      "Epoch: 0094 loss_train: 0.0257 acc_train: 1.0000 loss_val: 0.7476 acc_val: 0.7900\n",
      "Epoch: 0095 loss_train: 0.0197 acc_train: 1.0000 loss_val: 0.7530 acc_val: 0.7867\n",
      "Epoch: 0096 loss_train: 0.0260 acc_train: 1.0000 loss_val: 0.6960 acc_val: 0.7900\n",
      "Epoch: 0097 loss_train: 0.0218 acc_train: 1.0000 loss_val: 0.6819 acc_val: 0.8000\n",
      "Epoch: 0098 loss_train: 0.0207 acc_train: 1.0000 loss_val: 0.6894 acc_val: 0.7967\n",
      "Epoch: 0099 loss_train: 0.0231 acc_train: 1.0000 loss_val: 0.7345 acc_val: 0.8133\n",
      "Epoch: 0100 loss_train: 0.0249 acc_train: 1.0000 loss_val: 0.6598 acc_val: 0.8233\n",
      "Epoch: 0101 loss_train: 0.0205 acc_train: 1.0000 loss_val: 0.7510 acc_val: 0.8067\n",
      "Epoch: 0102 loss_train: 0.0290 acc_train: 1.0000 loss_val: 0.7070 acc_val: 0.7900\n",
      "Epoch: 0103 loss_train: 0.0317 acc_train: 1.0000 loss_val: 0.6488 acc_val: 0.8167\n",
      "Epoch: 0104 loss_train: 0.0202 acc_train: 1.0000 loss_val: 0.6263 acc_val: 0.8133\n",
      "Epoch: 0105 loss_train: 0.0212 acc_train: 1.0000 loss_val: 0.6385 acc_val: 0.8167\n",
      "Epoch: 0106 loss_train: 0.0165 acc_train: 1.0000 loss_val: 0.6969 acc_val: 0.8100\n",
      "Epoch: 0107 loss_train: 0.0201 acc_train: 1.0000 loss_val: 0.7112 acc_val: 0.8033\n",
      "Epoch: 0108 loss_train: 0.0214 acc_train: 1.0000 loss_val: 0.6459 acc_val: 0.8267\n",
      "Epoch: 0109 loss_train: 0.0170 acc_train: 1.0000 loss_val: 0.6865 acc_val: 0.8100\n",
      "Epoch: 0110 loss_train: 0.0191 acc_train: 1.0000 loss_val: 0.7376 acc_val: 0.8100\n",
      "Epoch: 0111 loss_train: 0.0293 acc_train: 0.9929 loss_val: 0.6818 acc_val: 0.8233\n",
      "Epoch: 0112 loss_train: 0.0213 acc_train: 1.0000 loss_val: 0.6745 acc_val: 0.8133\n",
      "Epoch: 0113 loss_train: 0.0173 acc_train: 1.0000 loss_val: 0.6784 acc_val: 0.8067\n",
      "Epoch: 0114 loss_train: 0.0227 acc_train: 1.0000 loss_val: 0.7331 acc_val: 0.8033\n",
      "Epoch: 0115 loss_train: 0.0218 acc_train: 1.0000 loss_val: 0.6873 acc_val: 0.8333\n",
      "Epoch: 0116 loss_train: 0.0250 acc_train: 1.0000 loss_val: 0.6888 acc_val: 0.8000\n",
      "Epoch: 0117 loss_train: 0.0246 acc_train: 1.0000 loss_val: 0.6933 acc_val: 0.7967\n",
      "Epoch: 0118 loss_train: 0.0166 acc_train: 1.0000 loss_val: 0.7067 acc_val: 0.8033\n",
      "Epoch: 0119 loss_train: 0.0295 acc_train: 0.9929 loss_val: 0.6622 acc_val: 0.8200\n",
      "Epoch: 0120 loss_train: 0.0254 acc_train: 1.0000 loss_val: 0.7179 acc_val: 0.8133\n",
      "Epoch: 0121 loss_train: 0.0212 acc_train: 1.0000 loss_val: 0.7088 acc_val: 0.8000\n",
      "Epoch: 0122 loss_train: 0.0206 acc_train: 1.0000 loss_val: 0.6696 acc_val: 0.8200\n",
      "Epoch: 0123 loss_train: 0.0339 acc_train: 1.0000 loss_val: 0.6288 acc_val: 0.8300\n",
      "Epoch: 0124 loss_train: 0.0177 acc_train: 1.0000 loss_val: 0.6346 acc_val: 0.8000\n",
      "Epoch: 0125 loss_train: 0.0274 acc_train: 1.0000 loss_val: 0.6812 acc_val: 0.8033\n",
      "Epoch: 0126 loss_train: 0.0183 acc_train: 1.0000 loss_val: 0.7109 acc_val: 0.8067\n",
      "Epoch: 0127 loss_train: 0.0250 acc_train: 1.0000 loss_val: 0.7163 acc_val: 0.7933\n",
      "Epoch: 0128 loss_train: 0.0236 acc_train: 1.0000 loss_val: 0.7093 acc_val: 0.7933\n",
      "Epoch: 0129 loss_train: 0.0163 acc_train: 1.0000 loss_val: 0.7498 acc_val: 0.8100\n",
      "Epoch: 0130 loss_train: 0.0243 acc_train: 1.0000 loss_val: 0.7207 acc_val: 0.7967\n",
      "Epoch: 0131 loss_train: 0.0160 acc_train: 1.0000 loss_val: 0.7371 acc_val: 0.7933\n",
      "Epoch: 0132 loss_train: 0.0160 acc_train: 1.0000 loss_val: 0.7531 acc_val: 0.7933\n",
      "Epoch: 0133 loss_train: 0.0190 acc_train: 1.0000 loss_val: 0.7484 acc_val: 0.7867\n",
      "Epoch: 0134 loss_train: 0.0171 acc_train: 1.0000 loss_val: 0.7030 acc_val: 0.7967\n",
      "Epoch: 0135 loss_train: 0.0245 acc_train: 1.0000 loss_val: 0.7626 acc_val: 0.8100\n",
      "Epoch: 0136 loss_train: 0.0133 acc_train: 1.0000 loss_val: 0.7023 acc_val: 0.7933\n",
      "Epoch: 0137 loss_train: 0.0181 acc_train: 1.0000 loss_val: 0.7268 acc_val: 0.7933\n",
      "Epoch: 0138 loss_train: 0.0212 acc_train: 1.0000 loss_val: 0.7215 acc_val: 0.8233\n",
      "Epoch: 0139 loss_train: 0.0294 acc_train: 1.0000 loss_val: 0.6704 acc_val: 0.8067\n",
      "Epoch: 0140 loss_train: 0.0220 acc_train: 1.0000 loss_val: 0.6957 acc_val: 0.8133\n",
      "Epoch: 0141 loss_train: 0.0154 acc_train: 1.0000 loss_val: 0.6673 acc_val: 0.8267\n",
      "Epoch: 0142 loss_train: 0.0194 acc_train: 1.0000 loss_val: 0.6799 acc_val: 0.8067\n",
      "Epoch: 0143 loss_train: 0.0153 acc_train: 1.0000 loss_val: 0.7046 acc_val: 0.8067\n",
      "Epoch: 0144 loss_train: 0.0129 acc_train: 1.0000 loss_val: 0.7202 acc_val: 0.8133\n",
      "Epoch: 0145 loss_train: 0.0183 acc_train: 1.0000 loss_val: 0.7213 acc_val: 0.8167\n",
      "Epoch: 0146 loss_train: 0.0140 acc_train: 1.0000 loss_val: 0.7111 acc_val: 0.8100\n",
      "Epoch: 0147 loss_train: 0.0188 acc_train: 1.0000 loss_val: 0.7362 acc_val: 0.8167\n",
      "Epoch: 0148 loss_train: 0.0145 acc_train: 1.0000 loss_val: 0.6892 acc_val: 0.8000\n",
      "Epoch: 0149 loss_train: 0.0136 acc_train: 1.0000 loss_val: 0.6442 acc_val: 0.8233\n",
      "Epoch: 0150 loss_train: 0.0239 acc_train: 1.0000 loss_val: 0.7291 acc_val: 0.7900\n",
      "Epoch: 0151 loss_train: 0.0199 acc_train: 1.0000 loss_val: 0.6369 acc_val: 0.8200\n",
      "Epoch: 0152 loss_train: 0.0216 acc_train: 1.0000 loss_val: 0.6974 acc_val: 0.8200\n",
      "Epoch: 0153 loss_train: 0.0146 acc_train: 1.0000 loss_val: 0.7160 acc_val: 0.8033\n",
      "Epoch: 0154 loss_train: 0.0194 acc_train: 1.0000 loss_val: 0.6977 acc_val: 0.8067\n",
      "Epoch: 0155 loss_train: 0.0196 acc_train: 1.0000 loss_val: 0.6772 acc_val: 0.8033\n",
      "Epoch: 0156 loss_train: 0.0179 acc_train: 1.0000 loss_val: 0.6846 acc_val: 0.8267\n",
      "Epoch: 0157 loss_train: 0.0296 acc_train: 1.0000 loss_val: 0.7416 acc_val: 0.8067\n",
      "Epoch: 0158 loss_train: 0.0182 acc_train: 1.0000 loss_val: 0.7325 acc_val: 0.8033\n",
      "Epoch: 0159 loss_train: 0.0328 acc_train: 0.9929 loss_val: 0.7463 acc_val: 0.8033\n",
      "Epoch: 0160 loss_train: 0.0258 acc_train: 1.0000 loss_val: 0.7335 acc_val: 0.8133\n",
      "Epoch: 0161 loss_train: 0.0199 acc_train: 1.0000 loss_val: 0.7767 acc_val: 0.7900\n",
      "Epoch: 0162 loss_train: 0.0225 acc_train: 1.0000 loss_val: 0.6858 acc_val: 0.7967\n",
      "Epoch: 0163 loss_train: 0.0169 acc_train: 1.0000 loss_val: 0.7022 acc_val: 0.7967\n",
      "Epoch: 0164 loss_train: 0.0186 acc_train: 1.0000 loss_val: 0.7484 acc_val: 0.7967\n",
      "Epoch: 0165 loss_train: 0.0233 acc_train: 0.9929 loss_val: 0.6744 acc_val: 0.8133\n",
      "Epoch: 0166 loss_train: 0.0205 acc_train: 1.0000 loss_val: 0.7236 acc_val: 0.8100\n",
      "Epoch: 0167 loss_train: 0.0163 acc_train: 1.0000 loss_val: 0.7628 acc_val: 0.8033\n",
      "Epoch: 0168 loss_train: 0.0178 acc_train: 1.0000 loss_val: 0.6869 acc_val: 0.8133\n",
      "Epoch: 0169 loss_train: 0.0199 acc_train: 1.0000 loss_val: 0.6478 acc_val: 0.8233\n",
      "Epoch: 0170 loss_train: 0.0155 acc_train: 1.0000 loss_val: 0.6887 acc_val: 0.7933\n",
      "Epoch: 0171 loss_train: 0.0181 acc_train: 1.0000 loss_val: 0.6810 acc_val: 0.8033\n",
      "Epoch: 0172 loss_train: 0.0138 acc_train: 1.0000 loss_val: 0.7208 acc_val: 0.8133\n",
      "Epoch: 0173 loss_train: 0.0139 acc_train: 1.0000 loss_val: 0.6958 acc_val: 0.7933\n",
      "Epoch: 0174 loss_train: 0.0223 acc_train: 1.0000 loss_val: 0.7289 acc_val: 0.8133\n",
      "Epoch: 0175 loss_train: 0.0204 acc_train: 0.9929 loss_val: 0.7224 acc_val: 0.8100\n",
      "Epoch: 0176 loss_train: 0.0165 acc_train: 1.0000 loss_val: 0.7411 acc_val: 0.8133\n",
      "Epoch: 0177 loss_train: 0.0127 acc_train: 1.0000 loss_val: 0.7715 acc_val: 0.8067\n",
      "Epoch: 0178 loss_train: 0.0165 acc_train: 1.0000 loss_val: 0.7527 acc_val: 0.7900\n",
      "Epoch: 0179 loss_train: 0.0202 acc_train: 1.0000 loss_val: 0.6969 acc_val: 0.8033\n",
      "Epoch: 0180 loss_train: 0.0254 acc_train: 1.0000 loss_val: 0.7330 acc_val: 0.8100\n",
      "Epoch: 0181 loss_train: 0.0154 acc_train: 1.0000 loss_val: 0.7440 acc_val: 0.7933\n",
      "Epoch: 0182 loss_train: 0.0213 acc_train: 0.9929 loss_val: 0.7722 acc_val: 0.7833\n",
      "Epoch: 0183 loss_train: 0.0242 acc_train: 0.9929 loss_val: 0.7421 acc_val: 0.8033\n",
      "Epoch: 0184 loss_train: 0.0157 acc_train: 1.0000 loss_val: 0.8107 acc_val: 0.7700\n",
      "Epoch: 0185 loss_train: 0.0177 acc_train: 1.0000 loss_val: 0.7245 acc_val: 0.7800\n",
      "Epoch: 0186 loss_train: 0.0185 acc_train: 1.0000 loss_val: 0.7637 acc_val: 0.8000\n",
      "Epoch: 0187 loss_train: 0.0179 acc_train: 1.0000 loss_val: 0.7559 acc_val: 0.7967\n",
      "Epoch: 0188 loss_train: 0.0154 acc_train: 1.0000 loss_val: 0.7397 acc_val: 0.8100\n",
      "Epoch: 0189 loss_train: 0.0144 acc_train: 1.0000 loss_val: 0.7167 acc_val: 0.7967\n",
      "Epoch: 0190 loss_train: 0.0167 acc_train: 1.0000 loss_val: 0.7579 acc_val: 0.8067\n",
      "Epoch: 0191 loss_train: 0.0149 acc_train: 1.0000 loss_val: 0.7595 acc_val: 0.8100\n",
      "Epoch: 0192 loss_train: 0.0211 acc_train: 1.0000 loss_val: 0.7550 acc_val: 0.8033\n",
      "Epoch: 0193 loss_train: 0.0183 acc_train: 1.0000 loss_val: 0.7085 acc_val: 0.7967\n",
      "Epoch: 0194 loss_train: 0.0176 acc_train: 1.0000 loss_val: 0.8021 acc_val: 0.7933\n",
      "Epoch: 0195 loss_train: 0.0188 acc_train: 1.0000 loss_val: 0.7518 acc_val: 0.8000\n",
      "Epoch: 0196 loss_train: 0.0157 acc_train: 1.0000 loss_val: 0.7720 acc_val: 0.7833\n",
      "Epoch: 0197 loss_train: 0.0144 acc_train: 1.0000 loss_val: 0.6773 acc_val: 0.7933\n",
      "Epoch: 0198 loss_train: 0.0292 acc_train: 0.9929 loss_val: 0.7401 acc_val: 0.8133\n",
      "Epoch: 0199 loss_train: 0.0198 acc_train: 1.0000 loss_val: 0.7914 acc_val: 0.7867\n",
      "Epoch: 0200 loss_train: 0.0139 acc_train: 1.0000 loss_val: 0.7280 acc_val: 0.8200\n",
      "Epoch: 0201 loss_train: 0.0167 acc_train: 1.0000 loss_val: 0.7312 acc_val: 0.8167\n",
      "Epoch: 0202 loss_train: 0.0352 acc_train: 0.9929 loss_val: 0.6939 acc_val: 0.8200\n",
      "Epoch: 0203 loss_train: 0.0275 acc_train: 0.9929 loss_val: 0.7367 acc_val: 0.7967\n",
      "Epoch: 0204 loss_train: 0.0226 acc_train: 1.0000 loss_val: 0.7723 acc_val: 0.8033\n",
      "Epoch: 0205 loss_train: 0.0171 acc_train: 1.0000 loss_val: 0.7612 acc_val: 0.8067\n",
      "Epoch: 0206 loss_train: 0.0166 acc_train: 1.0000 loss_val: 0.8200 acc_val: 0.7900\n",
      "Epoch: 0207 loss_train: 0.0333 acc_train: 0.9929 loss_val: 0.7737 acc_val: 0.8000\n",
      "Epoch: 0208 loss_train: 0.0147 acc_train: 1.0000 loss_val: 0.7084 acc_val: 0.8000\n",
      "Epoch: 0209 loss_train: 0.0216 acc_train: 0.9929 loss_val: 0.7287 acc_val: 0.7967\n",
      "Epoch: 0210 loss_train: 0.0198 acc_train: 1.0000 loss_val: 0.6850 acc_val: 0.8067\n",
      "Epoch: 0211 loss_train: 0.0131 acc_train: 1.0000 loss_val: 0.7727 acc_val: 0.8067\n",
      "Epoch: 0212 loss_train: 0.0143 acc_train: 1.0000 loss_val: 0.7340 acc_val: 0.8067\n",
      "Epoch: 0213 loss_train: 0.0305 acc_train: 0.9929 loss_val: 0.7315 acc_val: 0.7967\n",
      "Epoch: 0214 loss_train: 0.0103 acc_train: 1.0000 loss_val: 0.6777 acc_val: 0.8167\n",
      "Epoch: 0215 loss_train: 0.0193 acc_train: 1.0000 loss_val: 0.7297 acc_val: 0.8100\n",
      "Epoch: 0216 loss_train: 0.0136 acc_train: 1.0000 loss_val: 0.7432 acc_val: 0.8000\n",
      "Epoch: 0217 loss_train: 0.0249 acc_train: 1.0000 loss_val: 0.7011 acc_val: 0.8267\n",
      "Epoch: 0218 loss_train: 0.0142 acc_train: 1.0000 loss_val: 0.7272 acc_val: 0.8100\n",
      "Epoch: 0219 loss_train: 0.0141 acc_train: 1.0000 loss_val: 0.7270 acc_val: 0.8100\n",
      "Epoch: 0220 loss_train: 0.0284 acc_train: 0.9929 loss_val: 0.7335 acc_val: 0.8067\n",
      "Epoch: 0221 loss_train: 0.0129 acc_train: 1.0000 loss_val: 0.7367 acc_val: 0.8167\n",
      "Epoch: 0222 loss_train: 0.0139 acc_train: 1.0000 loss_val: 0.7356 acc_val: 0.8000\n",
      "Epoch: 0223 loss_train: 0.0125 acc_train: 1.0000 loss_val: 0.7626 acc_val: 0.8167\n",
      "Epoch: 0224 loss_train: 0.0170 acc_train: 1.0000 loss_val: 0.8487 acc_val: 0.7900\n",
      "Epoch: 0225 loss_train: 0.0127 acc_train: 1.0000 loss_val: 0.8293 acc_val: 0.7967\n",
      "Epoch: 0226 loss_train: 0.0140 acc_train: 1.0000 loss_val: 0.8243 acc_val: 0.7967\n",
      "Epoch: 0227 loss_train: 0.0190 acc_train: 1.0000 loss_val: 0.8034 acc_val: 0.8000\n",
      "Epoch: 0228 loss_train: 0.0188 acc_train: 1.0000 loss_val: 0.8390 acc_val: 0.7733\n",
      "Epoch: 0229 loss_train: 0.0129 acc_train: 1.0000 loss_val: 0.7479 acc_val: 0.8067\n",
      "Epoch: 0230 loss_train: 0.0138 acc_train: 1.0000 loss_val: 0.7736 acc_val: 0.8067\n",
      "Epoch: 0231 loss_train: 0.0243 acc_train: 1.0000 loss_val: 0.7441 acc_val: 0.8000\n",
      "Epoch: 0232 loss_train: 0.0128 acc_train: 1.0000 loss_val: 0.6940 acc_val: 0.8167\n",
      "Epoch: 0233 loss_train: 0.0206 acc_train: 1.0000 loss_val: 0.7453 acc_val: 0.7800\n",
      "Epoch: 0234 loss_train: 0.0186 acc_train: 1.0000 loss_val: 0.6960 acc_val: 0.8167\n",
      "Epoch: 0235 loss_train: 0.0157 acc_train: 1.0000 loss_val: 0.7369 acc_val: 0.8100\n",
      "Epoch: 0236 loss_train: 0.0121 acc_train: 1.0000 loss_val: 0.7460 acc_val: 0.8033\n",
      "Epoch: 0237 loss_train: 0.0236 acc_train: 1.0000 loss_val: 0.6801 acc_val: 0.8200\n",
      "Epoch: 0238 loss_train: 0.0170 acc_train: 1.0000 loss_val: 0.7117 acc_val: 0.8233\n",
      "Epoch: 0239 loss_train: 0.0229 acc_train: 1.0000 loss_val: 0.7097 acc_val: 0.8100\n",
      "Epoch: 0240 loss_train: 0.0113 acc_train: 1.0000 loss_val: 0.8093 acc_val: 0.7900\n",
      "Epoch: 0241 loss_train: 0.0288 acc_train: 1.0000 loss_val: 0.7752 acc_val: 0.8000\n",
      "Epoch: 0242 loss_train: 0.0198 acc_train: 1.0000 loss_val: 0.7249 acc_val: 0.7900\n",
      "Epoch: 0243 loss_train: 0.0231 acc_train: 1.0000 loss_val: 0.8794 acc_val: 0.7967\n",
      "Epoch: 0244 loss_train: 0.0184 acc_train: 1.0000 loss_val: 0.7672 acc_val: 0.8133\n",
      "Epoch: 0245 loss_train: 0.0127 acc_train: 1.0000 loss_val: 0.8118 acc_val: 0.8000\n",
      "Epoch: 0246 loss_train: 0.0166 acc_train: 1.0000 loss_val: 0.7803 acc_val: 0.7933\n",
      "Epoch: 0247 loss_train: 0.0124 acc_train: 1.0000 loss_val: 0.8090 acc_val: 0.8067\n",
      "Epoch: 0248 loss_train: 0.0176 acc_train: 1.0000 loss_val: 0.7826 acc_val: 0.8033\n",
      "Epoch: 0249 loss_train: 0.0199 acc_train: 1.0000 loss_val: 0.8150 acc_val: 0.7967\n",
      "Epoch: 0250 loss_train: 0.0150 acc_train: 1.0000 loss_val: 0.7408 acc_val: 0.8067\n",
      "Epoch: 0251 loss_train: 0.0144 acc_train: 1.0000 loss_val: 0.7121 acc_val: 0.8100\n",
      "Epoch: 0252 loss_train: 0.0138 acc_train: 1.0000 loss_val: 0.6768 acc_val: 0.8133\n",
      "Epoch: 0253 loss_train: 0.0170 acc_train: 1.0000 loss_val: 0.7351 acc_val: 0.8067\n",
      "Epoch: 0254 loss_train: 0.0139 acc_train: 1.0000 loss_val: 0.7594 acc_val: 0.7900\n",
      "Epoch: 0255 loss_train: 0.0161 acc_train: 1.0000 loss_val: 0.7947 acc_val: 0.8000\n",
      "Epoch: 0256 loss_train: 0.0123 acc_train: 1.0000 loss_val: 0.7847 acc_val: 0.8000\n",
      "Epoch: 0257 loss_train: 0.0133 acc_train: 1.0000 loss_val: 0.7575 acc_val: 0.8133\n",
      "Epoch: 0258 loss_train: 0.0163 acc_train: 1.0000 loss_val: 0.6666 acc_val: 0.8133\n",
      "Epoch: 0259 loss_train: 0.0147 acc_train: 1.0000 loss_val: 0.7492 acc_val: 0.8033\n",
      "Epoch: 0260 loss_train: 0.0144 acc_train: 1.0000 loss_val: 0.7022 acc_val: 0.8233\n",
      "Epoch: 0261 loss_train: 0.0151 acc_train: 1.0000 loss_val: 0.7413 acc_val: 0.8100\n",
      "Epoch: 0262 loss_train: 0.0199 acc_train: 1.0000 loss_val: 0.7838 acc_val: 0.7800\n",
      "Epoch: 0263 loss_train: 0.0158 acc_train: 1.0000 loss_val: 0.7503 acc_val: 0.7900\n",
      "Epoch: 0264 loss_train: 0.0155 acc_train: 1.0000 loss_val: 0.7416 acc_val: 0.8133\n",
      "Epoch: 0265 loss_train: 0.0124 acc_train: 1.0000 loss_val: 0.7342 acc_val: 0.8100\n",
      "Epoch: 0266 loss_train: 0.0189 acc_train: 1.0000 loss_val: 0.7169 acc_val: 0.8067\n",
      "Epoch: 0267 loss_train: 0.0117 acc_train: 1.0000 loss_val: 0.6708 acc_val: 0.8233\n",
      "Epoch: 0268 loss_train: 0.0121 acc_train: 1.0000 loss_val: 0.7059 acc_val: 0.8000\n",
      "Epoch: 0269 loss_train: 0.0210 acc_train: 0.9929 loss_val: 0.7319 acc_val: 0.8000\n",
      "Epoch: 0270 loss_train: 0.0123 acc_train: 1.0000 loss_val: 0.8280 acc_val: 0.8233\n",
      "Epoch: 0271 loss_train: 0.0160 acc_train: 1.0000 loss_val: 0.7354 acc_val: 0.7967\n",
      "Epoch: 0272 loss_train: 0.0153 acc_train: 1.0000 loss_val: 0.7813 acc_val: 0.8033\n",
      "Epoch: 0273 loss_train: 0.0127 acc_train: 1.0000 loss_val: 0.7480 acc_val: 0.7933\n",
      "Epoch: 0274 loss_train: 0.0166 acc_train: 1.0000 loss_val: 0.8234 acc_val: 0.8000\n",
      "Epoch: 0275 loss_train: 0.0188 acc_train: 1.0000 loss_val: 0.7454 acc_val: 0.8033\n",
      "Epoch: 0276 loss_train: 0.0139 acc_train: 1.0000 loss_val: 0.6988 acc_val: 0.8000\n",
      "Epoch: 0277 loss_train: 0.0372 acc_train: 0.9929 loss_val: 0.7489 acc_val: 0.7967\n",
      "Epoch: 0278 loss_train: 0.0219 acc_train: 1.0000 loss_val: 0.6951 acc_val: 0.8067\n",
      "Epoch: 0279 loss_train: 0.0154 acc_train: 1.0000 loss_val: 0.7314 acc_val: 0.8067\n",
      "Epoch: 0280 loss_train: 0.0180 acc_train: 1.0000 loss_val: 0.7584 acc_val: 0.8067\n",
      "Epoch: 0281 loss_train: 0.0160 acc_train: 1.0000 loss_val: 0.7586 acc_val: 0.8067\n",
      "Epoch: 0282 loss_train: 0.0117 acc_train: 1.0000 loss_val: 0.7730 acc_val: 0.7867\n",
      "Epoch: 0283 loss_train: 0.0169 acc_train: 1.0000 loss_val: 0.8014 acc_val: 0.8200\n",
      "Epoch: 0284 loss_train: 0.0139 acc_train: 1.0000 loss_val: 0.8510 acc_val: 0.7833\n",
      "Epoch: 0285 loss_train: 0.0132 acc_train: 1.0000 loss_val: 0.7427 acc_val: 0.8233\n",
      "Epoch: 0286 loss_train: 0.0213 acc_train: 1.0000 loss_val: 0.8211 acc_val: 0.7967\n",
      "Epoch: 0287 loss_train: 0.0187 acc_train: 1.0000 loss_val: 0.8068 acc_val: 0.7900\n",
      "Epoch: 0288 loss_train: 0.0156 acc_train: 1.0000 loss_val: 0.7673 acc_val: 0.8033\n",
      "Epoch: 0289 loss_train: 0.0167 acc_train: 1.0000 loss_val: 0.7960 acc_val: 0.7933\n",
      "Epoch: 0290 loss_train: 0.0196 acc_train: 1.0000 loss_val: 0.7350 acc_val: 0.8033\n",
      "Epoch: 0291 loss_train: 0.0123 acc_train: 1.0000 loss_val: 0.8175 acc_val: 0.7933\n",
      "Epoch: 0292 loss_train: 0.0172 acc_train: 1.0000 loss_val: 0.8084 acc_val: 0.8033\n",
      "Epoch: 0293 loss_train: 0.0140 acc_train: 1.0000 loss_val: 0.7487 acc_val: 0.7967\n",
      "Epoch: 0294 loss_train: 0.0123 acc_train: 1.0000 loss_val: 0.7862 acc_val: 0.7933\n",
      "Epoch: 0295 loss_train: 0.0136 acc_train: 1.0000 loss_val: 0.7978 acc_val: 0.7967\n",
      "Epoch: 0296 loss_train: 0.0125 acc_train: 1.0000 loss_val: 0.7669 acc_val: 0.8033\n",
      "Epoch: 0297 loss_train: 0.0149 acc_train: 1.0000 loss_val: 0.7457 acc_val: 0.8000\n",
      "Epoch: 0298 loss_train: 0.0138 acc_train: 1.0000 loss_val: 0.8169 acc_val: 0.7967\n",
      "Epoch: 0299 loss_train: 0.0120 acc_train: 1.0000 loss_val: 0.7971 acc_val: 0.8033\n",
      "Epoch: 0300 loss_train: 0.0183 acc_train: 1.0000 loss_val: 0.8423 acc_val: 0.8033\n",
      "Epoch: 0301 loss_train: 0.0240 acc_train: 1.0000 loss_val: 0.8250 acc_val: 0.7800\n",
      "Epoch: 0302 loss_train: 0.0138 acc_train: 1.0000 loss_val: 0.8007 acc_val: 0.7967\n",
      "Epoch: 0303 loss_train: 0.0179 acc_train: 1.0000 loss_val: 0.7883 acc_val: 0.7967\n",
      "Epoch: 0304 loss_train: 0.0194 acc_train: 1.0000 loss_val: 0.8257 acc_val: 0.7900\n",
      "Epoch: 0305 loss_train: 0.0128 acc_train: 1.0000 loss_val: 0.7768 acc_val: 0.7967\n",
      "Epoch: 0306 loss_train: 0.0260 acc_train: 0.9929 loss_val: 0.7298 acc_val: 0.7900\n",
      "Epoch: 0307 loss_train: 0.0124 acc_train: 1.0000 loss_val: 0.7386 acc_val: 0.8067\n",
      "Epoch: 0308 loss_train: 0.0186 acc_train: 1.0000 loss_val: 0.8285 acc_val: 0.7967\n",
      "Epoch: 0309 loss_train: 0.0099 acc_train: 1.0000 loss_val: 0.7548 acc_val: 0.8167\n",
      "Epoch: 0310 loss_train: 0.0154 acc_train: 1.0000 loss_val: 0.7614 acc_val: 0.8067\n",
      "Epoch: 0311 loss_train: 0.0208 acc_train: 1.0000 loss_val: 0.8142 acc_val: 0.8000\n",
      "Epoch: 0312 loss_train: 0.0172 acc_train: 1.0000 loss_val: 0.7821 acc_val: 0.7933\n",
      "Epoch: 0313 loss_train: 0.0133 acc_train: 1.0000 loss_val: 0.8224 acc_val: 0.7933\n",
      "Epoch: 0314 loss_train: 0.0160 acc_train: 1.0000 loss_val: 0.8426 acc_val: 0.8000\n",
      "Epoch: 0315 loss_train: 0.0187 acc_train: 0.9929 loss_val: 0.8281 acc_val: 0.8000\n",
      "Epoch: 0316 loss_train: 0.0137 acc_train: 1.0000 loss_val: 0.7641 acc_val: 0.7967\n",
      "Epoch: 0317 loss_train: 0.0157 acc_train: 1.0000 loss_val: 0.7735 acc_val: 0.8133\n",
      "Epoch: 0318 loss_train: 0.0163 acc_train: 1.0000 loss_val: 0.7691 acc_val: 0.8167\n",
      "Epoch: 0319 loss_train: 0.0147 acc_train: 1.0000 loss_val: 0.8908 acc_val: 0.7967\n",
      "Epoch: 0320 loss_train: 0.0155 acc_train: 1.0000 loss_val: 0.8015 acc_val: 0.8033\n",
      "Epoch: 0321 loss_train: 0.0131 acc_train: 1.0000 loss_val: 0.8418 acc_val: 0.8100\n",
      "Epoch: 0322 loss_train: 0.0146 acc_train: 1.0000 loss_val: 0.7700 acc_val: 0.8133\n",
      "Epoch: 0323 loss_train: 0.0149 acc_train: 1.0000 loss_val: 0.7682 acc_val: 0.8067\n",
      "Epoch: 0324 loss_train: 0.0124 acc_train: 1.0000 loss_val: 0.8199 acc_val: 0.7933\n",
      "Epoch: 0325 loss_train: 0.0133 acc_train: 1.0000 loss_val: 0.7437 acc_val: 0.8100\n",
      "Epoch: 0326 loss_train: 0.0148 acc_train: 1.0000 loss_val: 0.7445 acc_val: 0.7933\n",
      "Epoch: 0327 loss_train: 0.0170 acc_train: 1.0000 loss_val: 0.7263 acc_val: 0.7967\n",
      "Epoch: 0328 loss_train: 0.0186 acc_train: 1.0000 loss_val: 0.7120 acc_val: 0.8200\n",
      "Epoch: 0329 loss_train: 0.0184 acc_train: 1.0000 loss_val: 0.7148 acc_val: 0.8067\n",
      "Epoch: 0330 loss_train: 0.0153 acc_train: 1.0000 loss_val: 0.7599 acc_val: 0.7867\n",
      "Epoch: 0331 loss_train: 0.0144 acc_train: 1.0000 loss_val: 0.7268 acc_val: 0.8067\n",
      "Epoch: 0332 loss_train: 0.0116 acc_train: 1.0000 loss_val: 0.7484 acc_val: 0.8067\n",
      "Epoch: 0333 loss_train: 0.0138 acc_train: 1.0000 loss_val: 0.7849 acc_val: 0.7967\n",
      "Epoch: 0334 loss_train: 0.0129 acc_train: 1.0000 loss_val: 0.7538 acc_val: 0.7933\n",
      "Epoch: 0335 loss_train: 0.0111 acc_train: 1.0000 loss_val: 0.7561 acc_val: 0.8200\n",
      "Epoch: 0336 loss_train: 0.0139 acc_train: 1.0000 loss_val: 0.6829 acc_val: 0.8100\n",
      "Epoch: 0337 loss_train: 0.0143 acc_train: 1.0000 loss_val: 0.8452 acc_val: 0.7833\n",
      "Epoch: 0338 loss_train: 0.0276 acc_train: 0.9929 loss_val: 0.7486 acc_val: 0.7933\n",
      "Epoch: 0339 loss_train: 0.0153 acc_train: 1.0000 loss_val: 0.8230 acc_val: 0.7900\n",
      "Epoch: 0340 loss_train: 0.0147 acc_train: 1.0000 loss_val: 0.7764 acc_val: 0.8033\n",
      "Epoch: 0341 loss_train: 0.0140 acc_train: 1.0000 loss_val: 0.7442 acc_val: 0.8033\n",
      "Epoch: 0342 loss_train: 0.0143 acc_train: 1.0000 loss_val: 0.7694 acc_val: 0.8133\n",
      "Epoch: 0343 loss_train: 0.0165 acc_train: 1.0000 loss_val: 0.8011 acc_val: 0.8100\n",
      "Epoch: 0344 loss_train: 0.0169 acc_train: 1.0000 loss_val: 0.7354 acc_val: 0.8067\n",
      "Epoch: 0345 loss_train: 0.0120 acc_train: 1.0000 loss_val: 0.7682 acc_val: 0.7967\n",
      "Epoch: 0346 loss_train: 0.0141 acc_train: 1.0000 loss_val: 0.8000 acc_val: 0.8033\n",
      "Epoch: 0347 loss_train: 0.0201 acc_train: 1.0000 loss_val: 0.7948 acc_val: 0.7867\n",
      "Epoch: 0348 loss_train: 0.0146 acc_train: 1.0000 loss_val: 0.6984 acc_val: 0.7967\n",
      "Epoch: 0349 loss_train: 0.0160 acc_train: 1.0000 loss_val: 0.7858 acc_val: 0.8133\n",
      "Epoch: 0350 loss_train: 0.0114 acc_train: 1.0000 loss_val: 0.8025 acc_val: 0.7900\n",
      "Epoch: 0351 loss_train: 0.0151 acc_train: 1.0000 loss_val: 0.7219 acc_val: 0.7933\n",
      "Epoch: 0352 loss_train: 0.0097 acc_train: 1.0000 loss_val: 0.7325 acc_val: 0.7933\n",
      "Epoch: 0353 loss_train: 0.0138 acc_train: 1.0000 loss_val: 0.7348 acc_val: 0.8133\n",
      "Epoch: 0354 loss_train: 0.0105 acc_train: 1.0000 loss_val: 0.6805 acc_val: 0.8100\n",
      "Epoch: 0355 loss_train: 0.0175 acc_train: 1.0000 loss_val: 0.7162 acc_val: 0.8100\n",
      "Epoch: 0356 loss_train: 0.0093 acc_train: 1.0000 loss_val: 0.7963 acc_val: 0.8067\n",
      "Epoch: 0357 loss_train: 0.0169 acc_train: 1.0000 loss_val: 0.7803 acc_val: 0.8033\n",
      "Epoch: 0358 loss_train: 0.0121 acc_train: 1.0000 loss_val: 0.7911 acc_val: 0.8033\n",
      "Epoch: 0359 loss_train: 0.0170 acc_train: 1.0000 loss_val: 0.7668 acc_val: 0.8000\n",
      "Epoch: 0360 loss_train: 0.0154 acc_train: 1.0000 loss_val: 0.7330 acc_val: 0.8067\n",
      "Epoch: 0361 loss_train: 0.0197 acc_train: 0.9929 loss_val: 0.7905 acc_val: 0.8033\n",
      "Epoch: 0362 loss_train: 0.0135 acc_train: 1.0000 loss_val: 0.7621 acc_val: 0.8000\n",
      "Epoch: 0363 loss_train: 0.0118 acc_train: 1.0000 loss_val: 0.7860 acc_val: 0.8000\n",
      "Epoch: 0364 loss_train: 0.0156 acc_train: 1.0000 loss_val: 0.7372 acc_val: 0.8100\n",
      "Epoch: 0365 loss_train: 0.0149 acc_train: 1.0000 loss_val: 0.7708 acc_val: 0.8100\n",
      "Epoch: 0366 loss_train: 0.0154 acc_train: 1.0000 loss_val: 0.8450 acc_val: 0.7867\n",
      "Epoch: 0367 loss_train: 0.0196 acc_train: 1.0000 loss_val: 0.7732 acc_val: 0.7900\n",
      "Epoch: 0368 loss_train: 0.0186 acc_train: 1.0000 loss_val: 0.7637 acc_val: 0.7767\n",
      "Epoch: 0369 loss_train: 0.0147 acc_train: 1.0000 loss_val: 0.7445 acc_val: 0.8067\n",
      "Epoch: 0370 loss_train: 0.0167 acc_train: 1.0000 loss_val: 0.7405 acc_val: 0.8100\n",
      "Epoch: 0371 loss_train: 0.0110 acc_train: 1.0000 loss_val: 0.8385 acc_val: 0.7933\n",
      "Epoch: 0372 loss_train: 0.0135 acc_train: 1.0000 loss_val: 0.8333 acc_val: 0.8167\n",
      "Epoch: 0373 loss_train: 0.0203 acc_train: 1.0000 loss_val: 0.7581 acc_val: 0.8133\n",
      "Epoch: 0374 loss_train: 0.0208 acc_train: 1.0000 loss_val: 0.8725 acc_val: 0.7967\n",
      "Epoch: 0375 loss_train: 0.0344 acc_train: 0.9929 loss_val: 0.7695 acc_val: 0.7900\n",
      "Epoch: 0376 loss_train: 0.0167 acc_train: 1.0000 loss_val: 0.7652 acc_val: 0.8067\n",
      "Epoch: 0377 loss_train: 0.0130 acc_train: 1.0000 loss_val: 0.8034 acc_val: 0.7767\n",
      "Epoch: 0378 loss_train: 0.0125 acc_train: 1.0000 loss_val: 0.7706 acc_val: 0.7767\n",
      "Epoch: 0379 loss_train: 0.0167 acc_train: 1.0000 loss_val: 0.7328 acc_val: 0.8000\n",
      "Epoch: 0380 loss_train: 0.0278 acc_train: 0.9929 loss_val: 0.7785 acc_val: 0.7933\n",
      "Epoch: 0381 loss_train: 0.0176 acc_train: 0.9929 loss_val: 0.7632 acc_val: 0.8000\n",
      "Epoch: 0382 loss_train: 0.0123 acc_train: 1.0000 loss_val: 0.6820 acc_val: 0.8200\n",
      "Epoch: 0383 loss_train: 0.0174 acc_train: 1.0000 loss_val: 0.7295 acc_val: 0.8067\n",
      "Epoch: 0384 loss_train: 0.0111 acc_train: 1.0000 loss_val: 0.7743 acc_val: 0.7967\n",
      "Epoch: 0385 loss_train: 0.0161 acc_train: 1.0000 loss_val: 0.8207 acc_val: 0.7967\n",
      "Epoch: 0386 loss_train: 0.0143 acc_train: 1.0000 loss_val: 0.7256 acc_val: 0.8000\n",
      "Epoch: 0387 loss_train: 0.0249 acc_train: 1.0000 loss_val: 0.8957 acc_val: 0.7967\n",
      "Epoch: 0388 loss_train: 0.0125 acc_train: 1.0000 loss_val: 0.8181 acc_val: 0.8000\n",
      "Epoch: 0389 loss_train: 0.0130 acc_train: 1.0000 loss_val: 0.8316 acc_val: 0.8033\n",
      "Epoch: 0390 loss_train: 0.0196 acc_train: 1.0000 loss_val: 0.8354 acc_val: 0.7900\n",
      "Epoch: 0391 loss_train: 0.0126 acc_train: 1.0000 loss_val: 0.7604 acc_val: 0.7933\n",
      "Epoch: 0392 loss_train: 0.0145 acc_train: 1.0000 loss_val: 0.7451 acc_val: 0.8200\n",
      "Epoch: 0393 loss_train: 0.0120 acc_train: 1.0000 loss_val: 0.8104 acc_val: 0.8033\n",
      "Epoch: 0394 loss_train: 0.0223 acc_train: 1.0000 loss_val: 0.7518 acc_val: 0.8067\n",
      "Epoch: 0395 loss_train: 0.0328 acc_train: 0.9929 loss_val: 0.8122 acc_val: 0.7967\n",
      "Epoch: 0396 loss_train: 0.0099 acc_train: 1.0000 loss_val: 0.8076 acc_val: 0.7967\n",
      "Epoch: 0397 loss_train: 0.0159 acc_train: 1.0000 loss_val: 0.7537 acc_val: 0.8167\n",
      "Epoch: 0398 loss_train: 0.0148 acc_train: 1.0000 loss_val: 0.8129 acc_val: 0.7767\n",
      "Epoch: 0399 loss_train: 0.0151 acc_train: 1.0000 loss_val: 0.7839 acc_val: 0.8000\n",
      "Epoch: 0400 loss_train: 0.0122 acc_train: 1.0000 loss_val: 0.7879 acc_val: 0.8100\n",
      "Epoch: 0401 loss_train: 0.0163 acc_train: 1.0000 loss_val: 0.8107 acc_val: 0.8000\n",
      "Epoch: 0402 loss_train: 0.0208 acc_train: 1.0000 loss_val: 0.8323 acc_val: 0.7900\n",
      "Epoch: 0403 loss_train: 0.0123 acc_train: 1.0000 loss_val: 0.8469 acc_val: 0.7967\n",
      "Epoch: 0404 loss_train: 0.0157 acc_train: 0.9929 loss_val: 0.7380 acc_val: 0.8067\n",
      "Epoch: 0405 loss_train: 0.0116 acc_train: 1.0000 loss_val: 0.8301 acc_val: 0.7967\n",
      "Epoch: 0406 loss_train: 0.0159 acc_train: 1.0000 loss_val: 0.8412 acc_val: 0.8000\n",
      "Epoch: 0407 loss_train: 0.0215 acc_train: 1.0000 loss_val: 0.8221 acc_val: 0.7800\n",
      "Epoch: 0408 loss_train: 0.0126 acc_train: 1.0000 loss_val: 0.7654 acc_val: 0.8033\n",
      "Epoch: 0409 loss_train: 0.0151 acc_train: 1.0000 loss_val: 0.8226 acc_val: 0.8000\n",
      "Epoch: 0410 loss_train: 0.0177 acc_train: 1.0000 loss_val: 0.7664 acc_val: 0.8100\n",
      "Epoch: 0411 loss_train: 0.0133 acc_train: 1.0000 loss_val: 0.7623 acc_val: 0.8000\n",
      "Epoch: 0412 loss_train: 0.0179 acc_train: 1.0000 loss_val: 0.7805 acc_val: 0.7933\n",
      "Epoch: 0413 loss_train: 0.0134 acc_train: 1.0000 loss_val: 0.7969 acc_val: 0.7733\n",
      "Epoch: 0414 loss_train: 0.0139 acc_train: 1.0000 loss_val: 0.8632 acc_val: 0.7667\n",
      "Epoch: 0415 loss_train: 0.0113 acc_train: 1.0000 loss_val: 0.8082 acc_val: 0.7767\n",
      "Epoch: 0416 loss_train: 0.0127 acc_train: 1.0000 loss_val: 0.7433 acc_val: 0.7967\n",
      "Epoch: 0417 loss_train: 0.0159 acc_train: 1.0000 loss_val: 0.8394 acc_val: 0.7933\n",
      "Epoch: 0418 loss_train: 0.0226 acc_train: 1.0000 loss_val: 0.7189 acc_val: 0.8200\n",
      "Epoch: 0419 loss_train: 0.0156 acc_train: 1.0000 loss_val: 0.7546 acc_val: 0.8033\n",
      "Epoch: 0420 loss_train: 0.0123 acc_train: 1.0000 loss_val: 0.7195 acc_val: 0.8100\n",
      "Epoch: 0421 loss_train: 0.0165 acc_train: 1.0000 loss_val: 0.7643 acc_val: 0.8100\n",
      "Epoch: 0422 loss_train: 0.0147 acc_train: 1.0000 loss_val: 0.7806 acc_val: 0.8100\n",
      "Epoch: 0423 loss_train: 0.0131 acc_train: 1.0000 loss_val: 0.7620 acc_val: 0.7867\n",
      "Epoch: 0424 loss_train: 0.0241 acc_train: 0.9929 loss_val: 0.7144 acc_val: 0.8000\n",
      "Epoch: 0425 loss_train: 0.0123 acc_train: 1.0000 loss_val: 0.8323 acc_val: 0.8133\n",
      "Epoch: 0426 loss_train: 0.0142 acc_train: 1.0000 loss_val: 0.9135 acc_val: 0.8067\n",
      "Epoch: 0427 loss_train: 0.0114 acc_train: 1.0000 loss_val: 0.8619 acc_val: 0.7933\n",
      "Epoch: 0428 loss_train: 0.0108 acc_train: 1.0000 loss_val: 0.8601 acc_val: 0.7967\n",
      "Epoch: 0429 loss_train: 0.0115 acc_train: 1.0000 loss_val: 0.7925 acc_val: 0.8100\n",
      "Epoch: 0430 loss_train: 0.0176 acc_train: 1.0000 loss_val: 0.7851 acc_val: 0.7900\n",
      "Epoch: 0431 loss_train: 0.0188 acc_train: 1.0000 loss_val: 0.8621 acc_val: 0.7600\n",
      "Epoch: 0432 loss_train: 0.0163 acc_train: 1.0000 loss_val: 0.8115 acc_val: 0.7967\n",
      "Epoch: 0433 loss_train: 0.0143 acc_train: 1.0000 loss_val: 0.8248 acc_val: 0.8167\n",
      "Epoch: 0434 loss_train: 0.0160 acc_train: 1.0000 loss_val: 0.7762 acc_val: 0.8100\n",
      "Epoch: 0435 loss_train: 0.0136 acc_train: 1.0000 loss_val: 0.8166 acc_val: 0.8133\n",
      "Epoch: 0436 loss_train: 0.0085 acc_train: 1.0000 loss_val: 0.7877 acc_val: 0.8033\n",
      "Epoch: 0437 loss_train: 0.0143 acc_train: 1.0000 loss_val: 0.8029 acc_val: 0.8133\n",
      "Epoch: 0438 loss_train: 0.0112 acc_train: 1.0000 loss_val: 0.7477 acc_val: 0.7967\n",
      "Epoch: 0439 loss_train: 0.0105 acc_train: 1.0000 loss_val: 0.7347 acc_val: 0.8167\n",
      "Epoch: 0440 loss_train: 0.0155 acc_train: 1.0000 loss_val: 0.7623 acc_val: 0.7900\n",
      "Epoch: 0441 loss_train: 0.0119 acc_train: 1.0000 loss_val: 0.7587 acc_val: 0.8000\n",
      "Epoch: 0442 loss_train: 0.0206 acc_train: 1.0000 loss_val: 0.7115 acc_val: 0.7933\n",
      "Epoch: 0443 loss_train: 0.0137 acc_train: 1.0000 loss_val: 0.6931 acc_val: 0.8200\n",
      "Epoch: 0444 loss_train: 0.0132 acc_train: 1.0000 loss_val: 0.8277 acc_val: 0.7900\n",
      "Epoch: 0445 loss_train: 0.0155 acc_train: 1.0000 loss_val: 0.7357 acc_val: 0.8000\n",
      "Epoch: 0446 loss_train: 0.0145 acc_train: 1.0000 loss_val: 0.8436 acc_val: 0.8033\n",
      "Epoch: 0447 loss_train: 0.0226 acc_train: 1.0000 loss_val: 0.7794 acc_val: 0.7867\n",
      "Epoch: 0448 loss_train: 0.0254 acc_train: 1.0000 loss_val: 0.7800 acc_val: 0.8067\n",
      "Epoch: 0449 loss_train: 0.0124 acc_train: 1.0000 loss_val: 0.8214 acc_val: 0.8167\n",
      "Epoch: 0450 loss_train: 0.0092 acc_train: 1.0000 loss_val: 0.8607 acc_val: 0.7900\n",
      "Epoch: 0451 loss_train: 0.0129 acc_train: 1.0000 loss_val: 0.8595 acc_val: 0.8000\n",
      "Epoch: 0452 loss_train: 0.0230 acc_train: 1.0000 loss_val: 0.7728 acc_val: 0.8067\n",
      "Epoch: 0453 loss_train: 0.0140 acc_train: 1.0000 loss_val: 0.7921 acc_val: 0.8033\n",
      "Epoch: 0454 loss_train: 0.0119 acc_train: 1.0000 loss_val: 0.8034 acc_val: 0.8133\n",
      "Epoch: 0455 loss_train: 0.0111 acc_train: 1.0000 loss_val: 0.7852 acc_val: 0.7967\n",
      "Epoch: 0456 loss_train: 0.0136 acc_train: 1.0000 loss_val: 0.7692 acc_val: 0.8067\n",
      "Epoch: 0457 loss_train: 0.0129 acc_train: 1.0000 loss_val: 0.7584 acc_val: 0.7900\n",
      "Epoch: 0458 loss_train: 0.0066 acc_train: 1.0000 loss_val: 0.7739 acc_val: 0.8133\n",
      "Epoch: 0459 loss_train: 0.0136 acc_train: 1.0000 loss_val: 0.8135 acc_val: 0.7833\n",
      "Epoch: 0460 loss_train: 0.0131 acc_train: 1.0000 loss_val: 0.8004 acc_val: 0.8033\n",
      "Epoch: 0461 loss_train: 0.0105 acc_train: 1.0000 loss_val: 0.7756 acc_val: 0.7867\n",
      "Epoch: 0462 loss_train: 0.0203 acc_train: 0.9929 loss_val: 0.7479 acc_val: 0.7733\n",
      "Epoch: 0463 loss_train: 0.0096 acc_train: 1.0000 loss_val: 0.7080 acc_val: 0.8233\n",
      "Epoch: 0464 loss_train: 0.0166 acc_train: 1.0000 loss_val: 0.7774 acc_val: 0.7933\n",
      "Epoch: 0465 loss_train: 0.0145 acc_train: 1.0000 loss_val: 0.8128 acc_val: 0.8067\n",
      "Epoch: 0466 loss_train: 0.0096 acc_train: 1.0000 loss_val: 0.7691 acc_val: 0.8067\n",
      "Epoch: 0467 loss_train: 0.0216 acc_train: 0.9929 loss_val: 0.7652 acc_val: 0.8100\n",
      "Epoch: 0468 loss_train: 0.0174 acc_train: 1.0000 loss_val: 0.7383 acc_val: 0.7900\n",
      "Epoch: 0469 loss_train: 0.0250 acc_train: 0.9929 loss_val: 0.7707 acc_val: 0.8000\n",
      "Epoch: 0470 loss_train: 0.0109 acc_train: 1.0000 loss_val: 0.7798 acc_val: 0.8033\n",
      "Epoch: 0471 loss_train: 0.0149 acc_train: 1.0000 loss_val: 0.8026 acc_val: 0.8000\n",
      "Epoch: 0472 loss_train: 0.0161 acc_train: 1.0000 loss_val: 0.7669 acc_val: 0.8300\n",
      "Epoch: 0473 loss_train: 0.0128 acc_train: 1.0000 loss_val: 0.7428 acc_val: 0.7967\n",
      "Epoch: 0474 loss_train: 0.0216 acc_train: 0.9929 loss_val: 0.6938 acc_val: 0.8100\n",
      "Epoch: 0475 loss_train: 0.0223 acc_train: 1.0000 loss_val: 0.7436 acc_val: 0.7933\n",
      "Epoch: 0476 loss_train: 0.0233 acc_train: 0.9929 loss_val: 0.7042 acc_val: 0.8033\n",
      "Epoch: 0477 loss_train: 0.0140 acc_train: 1.0000 loss_val: 0.7245 acc_val: 0.8133\n",
      "Epoch: 0478 loss_train: 0.0112 acc_train: 1.0000 loss_val: 0.7291 acc_val: 0.8100\n",
      "Epoch: 0479 loss_train: 0.0129 acc_train: 1.0000 loss_val: 0.7961 acc_val: 0.8033\n",
      "Epoch: 0480 loss_train: 0.0155 acc_train: 1.0000 loss_val: 0.7589 acc_val: 0.8200\n",
      "Epoch: 0481 loss_train: 0.0129 acc_train: 1.0000 loss_val: 0.7454 acc_val: 0.8267\n",
      "Epoch: 0482 loss_train: 0.0186 acc_train: 1.0000 loss_val: 0.6975 acc_val: 0.8200\n",
      "Epoch: 0483 loss_train: 0.0153 acc_train: 1.0000 loss_val: 0.7558 acc_val: 0.8033\n",
      "Epoch: 0484 loss_train: 0.0239 acc_train: 0.9929 loss_val: 0.7728 acc_val: 0.8067\n",
      "Epoch: 0485 loss_train: 0.0107 acc_train: 1.0000 loss_val: 0.7975 acc_val: 0.7933\n",
      "Epoch: 0486 loss_train: 0.0150 acc_train: 1.0000 loss_val: 0.7960 acc_val: 0.8000\n",
      "Epoch: 0487 loss_train: 0.0101 acc_train: 1.0000 loss_val: 0.7832 acc_val: 0.8033\n",
      "Epoch: 0488 loss_train: 0.0158 acc_train: 1.0000 loss_val: 0.8665 acc_val: 0.7967\n",
      "Epoch: 0489 loss_train: 0.0157 acc_train: 1.0000 loss_val: 0.8659 acc_val: 0.8000\n",
      "Epoch: 0490 loss_train: 0.0119 acc_train: 1.0000 loss_val: 0.8042 acc_val: 0.7933\n",
      "Epoch: 0491 loss_train: 0.0149 acc_train: 1.0000 loss_val: 0.7644 acc_val: 0.7933\n",
      "Epoch: 0492 loss_train: 0.0211 acc_train: 1.0000 loss_val: 0.7424 acc_val: 0.7967\n",
      "Epoch: 0493 loss_train: 0.0100 acc_train: 1.0000 loss_val: 0.7582 acc_val: 0.8000\n",
      "Epoch: 0494 loss_train: 0.0174 acc_train: 1.0000 loss_val: 0.7350 acc_val: 0.8100\n",
      "Epoch: 0495 loss_train: 0.0108 acc_train: 1.0000 loss_val: 0.7458 acc_val: 0.8033\n",
      "Epoch: 0496 loss_train: 0.0184 acc_train: 1.0000 loss_val: 0.6839 acc_val: 0.8033\n",
      "Epoch: 0497 loss_train: 0.0110 acc_train: 1.0000 loss_val: 0.7568 acc_val: 0.8233\n",
      "Epoch: 0498 loss_train: 0.0183 acc_train: 1.0000 loss_val: 0.7668 acc_val: 0.8067\n",
      "Epoch: 0499 loss_train: 0.0182 acc_train: 1.0000 loss_val: 0.8044 acc_val: 0.7867\n",
      "Epoch: 0500 loss_train: 0.0149 acc_train: 1.0000 loss_val: 0.8275 acc_val: 0.7933\n"
     ]
    }
   ],
   "source": [
    "for epoch in range(500):\n",
    "    train(epoch)"
   ],
   "metadata": {
    "collapsed": false,
    "pycharm": {
     "name": "#%%\n"
    }
   }
  },
  {
   "cell_type": "code",
   "execution_count": 101,
   "outputs": [
    {
     "data": {
      "text/plain": "Text(0.5, 1.0, 'loss_train')"
     },
     "execution_count": 101,
     "metadata": {},
     "output_type": "execute_result"
    },
    {
     "data": {
      "text/plain": "<Figure size 640x480 with 1 Axes>",
      "image/png": "[encoded data removed]"
     },
     "metadata": {},
     "output_type": "display_data"
    }
   ],
   "source": [
    "# 第一个位置\n",
    "plt.plot(loss_train_list)\n",
    "plt.title('loss_train')"
   ],
   "metadata": {
    "collapsed": false,
    "pycharm": {
     "name": "#%%\n"
    }
   }
  },
  {
   "cell_type": "code",
   "execution_count": 102,
   "outputs": [
    {
     "data": {
      "text/plain": "Text(0.5, 1.0, 'acc_train')"
     },
     "execution_count": 102,
     "metadata": {},
     "output_type": "execute_result"
    },
    {
     "data": {
      "text/plain": "<Figure size 640x480 with 1 Axes>",
      "image/png": "[encoded data removed]"
     },
     "metadata": {},
     "output_type": "display_data"
    }
   ],
   "source": [
    "# 第二个位置\n",
    "plt.plot(acc_train_list)\n",
    "plt.title('acc_train')"
   ],
   "metadata": {
    "collapsed": false,
    "pycharm": {
     "name": "#%%\n"
    }
   }
  },
  {
   "cell_type": "code",
   "execution_count": 103,
   "outputs": [
    {
     "data": {
      "text/plain": "Text(0.5, 1.0, 'loss_val')"
     },
     "execution_count": 103,
     "metadata": {},
     "output_type": "execute_result"
    },
    {
     "data": {
      "text/plain": "<Figure size 640x480 with 1 Axes>",
      "image/png": "[encoded data removed]"
     },
     "metadata": {},
     "output_type": "display_data"
    }
   ],
   "source": [
    "# 第三个位置\n",
    "plt.plot(loss_val_list)\n",
    "plt.title('loss_val')"
   ],
   "metadata": {
    "collapsed": false,
    "pycharm": {
     "name": "#%%\n"
    }
   }
  },
  {
   "cell_type": "code",
   "execution_count": 104,
   "outputs": [
    {
     "data": {
      "text/plain": "Text(0.5, 1.0, 'acc_val')"
     },
     "execution_count": 104,
     "metadata": {},
     "output_type": "execute_result"
    },
    {
     "data": {
      "text/plain": "<Figure size 640x480 with 1 Axes>",
      "image/png": "[encoded data removed]"
     },
     "metadata": {},
     "output_type": "display_data"
    }
   ],
   "source": [
    "# 第四个位置\n",
    "plt.plot(acc_val_list)\n",
    "plt.title('acc_val')"
   ],
   "metadata": {
    "collapsed": false,
    "pycharm": {
     "name": "#%%\n"
    }
   }
  },
  {
   "cell_type": "code",
   "execution_count": 105,
   "outputs": [
    {
     "name": "stdout",
     "output_type": "stream",
     "text": [
      "Test set results: loss= 0.6119 accuracy= 0.8130\n"
     ]
    }
   ],
   "source": [
    "test()"
   ],
   "metadata": {
    "collapsed": false,
    "pycharm": {
     "name": "#%%\n"
    }
   }
  }
 ],
 "metadata": {
  "kernelspec": {
   "display_name": "Python 3",
   "language": "python",
   "name": "python3"
  },
  "language_info": {
   "codemirror_mode": {
    "name": "ipython",
    "version": 2
   },
   "file_extension": ".py",
   "mimetype": "text/x-python",
   "name": "python",
   "nbconvert_exporter": "python",
   "pygments_lexer": "ipython2",
   "version": "2.7.6"
  }
 },
 "nbformat": 4,
 "nbformat_minor": 0
}