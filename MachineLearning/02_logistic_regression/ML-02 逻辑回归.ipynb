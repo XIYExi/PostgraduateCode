{
 "cells": [
  {
   "cell_type": "markdown",
   "id": "83cd1dd1",
   "metadata": {},
   "source": [
    "# 逻辑回归（简单版本）\n",
    "\n",
    "---\n",
    "\n",
    "- [函数式编程](#函数式编程)\n",
    "- [类式编程](#类式编程)"
   ]
  },
  {
   "cell_type": "markdown",
   "id": "e6ae7c03",
   "metadata": {},
   "source": [
    "## 函数式编程\n",
    "\n",
    "---\n",
    "\n",
    "### sigmoid函数\n",
    "\n",
    "#### $$ h_{\\theta}(x) = g(\\theta^{T}x)$$\n",
    "#### $$ g(z)=\\frac{1}{1+e^{−z}} $$"
   ]
  },
  {
   "cell_type": "code",
   "execution_count": 2,
   "id": "5e55bd41",
   "metadata": {},
   "outputs": [],
   "source": [
    "import numpy as np\n",
    "\n",
    "def sigmoid(x):\n",
    "    return 1 / ( 1 + np.exp(-x) )"
   ]
  },
  {
   "cell_type": "markdown",
   "id": "771b50be",
   "metadata": {},
   "source": [
    "### 初始化函数"
   ]
  },
  {
   "cell_type": "code",
   "execution_count": 3,
   "id": "513a5d68",
   "metadata": {},
   "outputs": [],
   "source": [
    "def initialize_params(dims):\n",
    "    w = np.zeros((dims, 1))\n",
    "    b = 0\n",
    "    return w, b"
   ]
  },
  {
   "cell_type": "markdown",
   "id": "48f9d65b",
   "metadata": {},
   "source": [
    "### 逻辑回归\n",
    "\n",
    "#### 损失函数\n",
    "#### $$ J(\\theta) = \\frac{1}{m}\\sum_{i=1}^{m}\\big[-y^{(i)}\\, log\\,( h_\\theta\\,(x^{(i)}))-(1-y^{(i)})\\,log\\,(1-h_\\theta(x^{(i)}))\\big]$$\n",
    "#### 向量化的损失函数(矩阵形式)\n",
    "#### $$ J(\\theta) = \\frac{1}{m}\\big((\\,log\\,(g(X\\theta))^Ty+(\\,log\\,(1-g(X\\theta))^T(1-y)\\big)$$\n",
    "\n",
    "---\n",
    "#### 求偏导(梯度)\n",
    "#### $$ \\frac{\\delta J(\\theta)}{\\delta\\theta_{j}} = \\frac{1}{m}\\sum_{i=1}^{m} ( h_\\theta (x^{(i)})-y^{(i)})x^{(i)}_{j} $$ \n",
    "#### 向量化的偏导(梯度)\n",
    "#### $$ \\frac{\\delta J(\\theta)}{\\delta\\theta_{j}} = \\frac{1}{m} X^T(g(X\\theta)-y)$$"
   ]
  },
  {
   "cell_type": "code",
   "execution_count": 5,
   "id": "b8a38f43",
   "metadata": {},
   "outputs": [],
   "source": [
    "def logistic(X, y, w, b):\n",
    "    num_train = X.shape[0]\n",
    "    num_features = X.shape[1]\n",
    "    \n",
    "    a = sigmoid(np.dot(X, w) + b)\n",
    "    cost = -1 / num_train * np.sum(y * np.log(a) + (1 - y) * np.log(1 - a))\n",
    "    dw = np.dot(X.T, (a-y)) / num_train\n",
    "    db = np.sum(a-y) / num_train\n",
    "    cost = np.squeeze(cost)\n",
    "    \n",
    "    return a, cost, dw, db"
   ]
  },
  {
   "cell_type": "markdown",
   "id": "d91965ba",
   "metadata": {},
   "source": [
    "### 训练并更新参数"
   ]
  },
  {
   "cell_type": "code",
   "execution_count": 8,
   "id": "91e5c359",
   "metadata": {},
   "outputs": [],
   "source": [
    "def logistic_train(X, y, learning_rate, epochs):\n",
    "    w, b = initialize_params(X.shape[1])\n",
    "    cost_list = []\n",
    "    \n",
    "    # 迭代训练\n",
    "    for i in range(1, epochs):\n",
    "        # 计算当前模型的结果、损失和下降的梯度\n",
    "        a, cost, dw, db = logistic(X, y, w, b)\n",
    "        # 更新参数\n",
    "        w += - learning_rate * dw\n",
    "        b += - learning_rate * db\n",
    "        # 记录损失\n",
    "        if i % 100 == 0:\n",
    "            cost_list.append(cost)\n",
    "            print('epoch {0} cost {1}'.format(i, cost))\n",
    "        \n",
    "        # 保存参数\n",
    "        params = {\n",
    "            'w': w,\n",
    "            'b': b\n",
    "        }\n",
    "        grads = {\n",
    "            'dw':dw,\n",
    "            'db':db\n",
    "        }\n",
    "    return cost_list, params, grads"
   ]
  },
  {
   "cell_type": "markdown",
   "id": "80bf324c",
   "metadata": {},
   "source": [
    "### 预测函数"
   ]
  },
  {
   "cell_type": "code",
   "execution_count": 10,
   "id": "862bde00",
   "metadata": {},
   "outputs": [],
   "source": [
    "def predict(X, params):\n",
    "    y_prediction = sigmoid(np.dot(X, params['w']) + params['b'])\n",
    "    for i in range(len(y_prediction)):\n",
    "        if y_prediction[i] > 0.5:\n",
    "            y_prediction[i] = 1\n",
    "        else:\n",
    "            y_prediction[i] = 0\n",
    "    return y_prediction"
   ]
  },
  {
   "cell_type": "markdown",
   "id": "2f7b0f0b",
   "metadata": {},
   "source": [
    "### 评估"
   ]
  },
  {
   "cell_type": "code",
   "execution_count": 23,
   "id": "57f53c60",
   "metadata": {},
   "outputs": [],
   "source": [
    "def accuracy(y_test, y_pred):\n",
    "    correct_count = 0\n",
    "    for i in range(len(y_test)):        \n",
    "        for j in range(len(y_pred)):            \n",
    "            if y_test[i] == y_pred[j] and i == j:\n",
    "                correct_count +=1\n",
    "\n",
    "    accuracy_score = correct_count / len(y_test)    \n",
    "    return accuracy_score"
   ]
  },
  {
   "cell_type": "markdown",
   "id": "4ef427c4",
   "metadata": {},
   "source": [
    "### 使用sklearn模拟二分类数据进行测试"
   ]
  },
  {
   "cell_type": "code",
   "execution_count": 26,
   "id": "ed49c5a6",
   "metadata": {},
   "outputs": [
    {
     "name": "stdout",
     "output_type": "stream",
     "text": [
      "\n",
      "数据分布展示\n",
      "\n"
     ]
    },
    {
     "data": {
      "image/png": "[encoded data removed]",
      "text/plain": [
       "<Figure size 432x288 with 1 Axes>"
      ]
     },
     "metadata": {
      "needs_background": "light"
     },
     "output_type": "display_data"
    },
    {
     "name": "stdout",
     "output_type": "stream",
     "text": [
      "\n",
      "数据划分\n",
      "\n",
      "X_train= (90, 2)\n",
      "X_test= (10, 2)\n",
      "y_train= (90, 1)\n",
      "y_test= (10, 1)\n",
      "\n",
      "迭代：\n",
      "\n",
      "epoch 100 cost 0.5550223646898736\n",
      "epoch 200 cost 0.48151870160801163\n",
      "epoch 300 cost 0.43511868362452005\n",
      "epoch 400 cost 0.4026713088750993\n",
      "epoch 500 cost 0.3784860032342735\n",
      "epoch 600 cost 0.3596363521007141\n",
      "epoch 700 cost 0.34444980457173746\n",
      "epoch 800 cost 0.3318981690253534\n",
      "epoch 900 cost 0.3213132967074229\n",
      "[[0.]\n",
      " [1.]\n",
      " [1.]\n",
      " [0.]\n",
      " [1.]\n",
      " [1.]\n",
      " [0.]\n",
      " [0.]\n",
      " [1.]\n",
      " [0.]]\n",
      "0.03333333333333333\n",
      "1.0\n",
      "\n",
      "逻辑回归\n",
      "\n"
     ]
    },
    {
     "data": {
      "image/png": "[encoded data removed]",
      "text/plain": [
       "<Figure size 432x288 with 1 Axes>"
      ]
     },
     "metadata": {
      "needs_background": "light"
     },
     "output_type": "display_data"
    }
   ],
   "source": [
    "import matplotlib.pyplot as plt\n",
    "from sklearn.datasets import make_classification\n",
    "\n",
    "X, labels = make_classification(\n",
    "    n_samples=100, \n",
    "    n_features=2, \n",
    "    n_redundant=0,\n",
    "    n_informative=2, \n",
    "    random_state=1, \n",
    "    n_clusters_per_class=2\n",
    ")\n",
    "rng=np.random.RandomState(2)\n",
    "X += 2*rng.uniform(size=X.shape)\n",
    "\n",
    "unique_labels = set(labels)\n",
    "colors=plt.cm.Spectral(np.linspace(0, 1, len(unique_labels)))\n",
    "for k, col in zip(unique_labels, colors):\n",
    "    x_k=X[labels==k]\n",
    "    plt.plot(\n",
    "        x_k[:, 0], \n",
    "        x_k[:, 1],\n",
    "        'o', \n",
    "        markerfacecolor=col,\n",
    "        markeredgecolor=\"k\",\n",
    "        markersize=14\n",
    "    )\n",
    "plt.title('data by make_classification()')\n",
    "print('\\n数据分布展示\\n')\n",
    "plt.show()\n",
    "\n",
    "\n",
    "print('\\n数据划分\\n')\n",
    "offset = int(X.shape[0] * 0.9)\n",
    "X_train, y_train = X[:offset], labels[:offset]\n",
    "X_test, y_test = X[offset:], labels[offset:]\n",
    "y_train = y_train.reshape((-1,1))\n",
    "y_test = y_test.reshape((-1,1))\n",
    "\n",
    "print('X_train=', X_train.shape)\n",
    "print('X_test=', X_test.shape)\n",
    "print('y_train=', y_train.shape)\n",
    "print('y_test=', y_test.shape)\n",
    "\n",
    "# 训练\n",
    "print('\\n迭代：\\n')\n",
    "cost_list, params, grads = logistic_train(X_train, y_train, 0.01, 1000)\n",
    "\n",
    "# 预测\n",
    "y_prediction = predict(X_test, params)\n",
    "print(y_prediction)\n",
    "\n",
    "# 打印训练准确率\n",
    "accuracy_score_train = accuracy(y_train, y_prediction)\n",
    "print(accuracy_score_train)\n",
    "\n",
    "# 测试集准确率\n",
    "accuracy_score_test = accuracy(y_test, y_prediction)\n",
    "print(accuracy_score_test)\n",
    "\n",
    "# 划分结果可视化\n",
    "print('\\n逻辑回归\\n')\n",
    "def plot_logistic(X_train, y_train, params):\n",
    "    n = X_train.shape[0]\n",
    "    xcord1 = []\n",
    "    ycord1 = []\n",
    "    xcord2 = []\n",
    "    ycord2 = []    \n",
    "    for i in range(n):        \n",
    "        if y_train[i] == 1:\n",
    "            xcord1.append(X_train[i][0])\n",
    "            ycord1.append(X_train[i][1])        \n",
    "        else:\n",
    "            xcord2.append(X_train[i][0])\n",
    "            ycord2.append(X_train[i][1])\n",
    "        \n",
    "    fig = plt.figure()\n",
    "    ax = fig.add_subplot(111)\n",
    "    ax.scatter(xcord1, ycord1,s=32, c='red')\n",
    "    ax.scatter(xcord2, ycord2, s=32, c='green')\n",
    "    x = np.arange(-1.5, 3, 0.1)\n",
    "    y = (-params['b'] - params['w'][0] * x) / params['w'][1]\n",
    "    ax.plot(x, y)\n",
    "    plt.xlabel('X1')\n",
    "    plt.ylabel('X2')\n",
    "    plt.show()\n",
    "\n",
    "plot_logistic(X_train, y_train, params)\n"
   ]
  },
  {
   "cell_type": "markdown",
   "id": "9c0aae20",
   "metadata": {},
   "source": [
    "## 类式编程"
   ]
  },
  {
   "cell_type": "code",
   "execution_count": 30,
   "id": "ba55307b",
   "metadata": {},
   "outputs": [],
   "source": [
    "import numpy as np\n",
    "import matplotlib.pyplot as plt\n",
    "from sklearn.datasets import make_classification\n",
    "\n",
    "class logistic_regression():    \n",
    "    def __init__(self):        \n",
    "        pass\n",
    "\n",
    "    def sigmoid(self, x):\n",
    "        z = 1 / (1 + np.exp(-x))        \n",
    "        return z    \n",
    "        \n",
    "    def initialize_params(self, dims):\n",
    "        W = np.zeros((dims, 1))\n",
    "        b = 0\n",
    "        return W, b    \n",
    "    \n",
    "    def logistic(self, X, y, W, b):\n",
    "        num_train = X.shape[0]\n",
    "        num_feature = X.shape[1]\n",
    "\n",
    "        a = self.sigmoid(np.dot(X, W) + b)\n",
    "        cost = -1 / num_train * np.sum(y * np.log(a) + (1 - y) * np.log(1 - a))\n",
    "\n",
    "        dW = np.dot(X.T, (a - y)) / num_train\n",
    "        db = np.sum(a - y) / num_train\n",
    "        cost = np.squeeze(cost)        \n",
    "        return a, cost, dW, db    \n",
    "        \n",
    "    def logistic_train(self, X, y, learning_rate, epochs):\n",
    "        W, b = self.initialize_params(X.shape[1])\n",
    "        cost_list = []        \n",
    "        for i in range(epochs):\n",
    "            a, cost, dW, db = self.logistic(X, y, W, b)\n",
    "            W = W - learning_rate * dW\n",
    "            b = b - learning_rate * db            \n",
    "            if i % 100 == 0:\n",
    "                cost_list.append(cost)            \n",
    "            if i % 100 == 0:\n",
    "                print('epoch %d cost %f' % (i, cost))\n",
    "\n",
    "        params = {\n",
    "            'W': W, \n",
    "            'b': b\n",
    "        }\n",
    "        grads = {            \n",
    "            'dW': dW,            \n",
    "            'db': db\n",
    "        }        \n",
    "        \n",
    "        return cost_list, params, grads    \n",
    "        \n",
    "    def predict(self, X, params):\n",
    "        y_prediction = self.sigmoid(np.dot(X, params['W']) + params['b'])        \n",
    "        for i in range(len(y_prediction)):            \n",
    "            if y_prediction[i] > 0.5:\n",
    "                y_prediction[i] = 1\n",
    "            else:\n",
    "                y_prediction[i] = 0\n",
    "\n",
    "        return y_prediction    \n",
    "            \n",
    "    def accuracy(self, y_test, y_pred):\n",
    "        correct_count = 0\n",
    "        for i in range(len(y_test)):            \n",
    "            for j in range(len(y_pred)):                \n",
    "                if y_test[i] == y_pred[j] and i == j:\n",
    "                    correct_count += 1\n",
    "\n",
    "        accuracy_score = correct_count / len(y_test)        \n",
    "        return accuracy_score    \n",
    "        \n",
    "    def create_data(self):\n",
    "        X, labels = make_classification(n_samples=100, n_features=2, n_redundant=0, n_informative=2, random_state=1, n_clusters_per_class=2)\n",
    "        labels = labels.reshape((-1, 1))\n",
    "        offset = int(X.shape[0] * 0.9)\n",
    "        X_train, y_train = X[:offset], labels[:offset]\n",
    "        X_test, y_test = X[offset:], labels[offset:]        \n",
    "        return X_train, y_train, X_test, y_test    \n",
    "        \n",
    "    def plot_logistic(self, X_train, y_train, params):\n",
    "        n = X_train.shape[0]\n",
    "        xcord1 = []\n",
    "        ycord1 = []\n",
    "        xcord2 = []\n",
    "        ycord2 = []        \n",
    "        for i in range(n):            \n",
    "            if y_train[i] == 1:\n",
    "                xcord1.append(X_train[i][0])\n",
    "                ycord1.append(X_train[i][1])            \n",
    "            else:\n",
    "                xcord2.append(X_train[i][0])\n",
    "                ycord2.append(X_train[i][1])\n",
    "        fig = plt.figure()\n",
    "        ax = fig.add_subplot(111)\n",
    "        ax.scatter(xcord1, ycord1, s=32, c='red')\n",
    "        ax.scatter(xcord2, ycord2, s=32, c='green')\n",
    "        x = np.arange(-1.5, 3, 0.1)\n",
    "        y = (-params['b'] - params['W'][0] * x) / params['W'][1]\n",
    "        ax.plot(x, y)\n",
    "        plt.xlabel('X1')\n",
    "        plt.ylabel('X2')\n",
    "        plt.show()\n"
   ]
  },
  {
   "cell_type": "code",
   "execution_count": 31,
   "id": "aa942adb",
   "metadata": {},
   "outputs": [
    {
     "name": "stdout",
     "output_type": "stream",
     "text": [
      "(90, 2) (90, 1) (10, 2) (10, 1)\n",
      "epoch 0 cost 0.693147\n",
      "epoch 100 cost 0.521480\n",
      "epoch 200 cost 0.416359\n",
      "epoch 300 cost 0.347951\n",
      "epoch 400 cost 0.300680\n",
      "epoch 500 cost 0.266327\n",
      "epoch 600 cost 0.240328\n",
      "epoch 700 cost 0.220002\n",
      "epoch 800 cost 0.203687\n",
      "epoch 900 cost 0.190306\n",
      "{'W': array([[ 2.04608084],\n",
      "       [-0.03964634]]), 'b': 0.12335926234285086}\n",
      "train accuracy is: 0.9666666666666667\n",
      "test accuracy is: 1.0\n"
     ]
    },
    {
     "data": {
      "image/png": "[encoded data removed]",
      "text/plain": [
       "<Figure size 432x288 with 1 Axes>"
      ]
     },
     "metadata": {
      "needs_background": "light"
     },
     "output_type": "display_data"
    }
   ],
   "source": [
    "\n",
    "            \n",
    "if __name__ == \"__main__\":\n",
    "    model = logistic_regression()\n",
    "    X_train, y_train, X_test, y_test = model.create_data()\n",
    "    print(X_train.shape, y_train.shape, X_test.shape, y_test.shape)\n",
    "    cost_list, params, grads = model.logistic_train(X_train, y_train, 0.01, 1000)\n",
    "    print(params)\n",
    "    y_train_pred = model.predict(X_train, params)\n",
    "    accuracy_score_train = model.accuracy(y_train, y_train_pred)\n",
    "    print('train accuracy is:', accuracy_score_train)\n",
    "    y_test_pred = model.predict(X_test, params)\n",
    "    accuracy_score_test = model.accuracy(y_test, y_test_pred)\n",
    "    print('test accuracy is:', accuracy_score_test)\n",
    "    model.plot_logistic(X_train, y_train, params)"
   ]
  },
  {
   "cell_type": "code",
   "execution_count": null,
   "id": "301633b1",
   "metadata": {},
   "outputs": [],
   "source": []
  }
 ],
 "metadata": {
  "kernelspec": {
   "display_name": "Python 3",
   "language": "python",
   "name": "python3"
  },
  "language_info": {
   "codemirror_mode": {
    "name": "ipython",
    "version": 3
   },
   "file_extension": ".py",
   "mimetype": "text/x-python",
   "name": "python",
   "nbconvert_exporter": "python",
   "pygments_lexer": "ipython3",
   "version": "3.8.8"
  }
 },
 "nbformat": 4,
 "nbformat_minor": 5
}
