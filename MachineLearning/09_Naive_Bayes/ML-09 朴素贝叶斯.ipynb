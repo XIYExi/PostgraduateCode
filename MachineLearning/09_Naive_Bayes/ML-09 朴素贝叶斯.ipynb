{
 "cells": [
  {
   "cell_type": "markdown",
   "id": "91b50c1f",
   "metadata": {},
   "source": [
    "## 朴素贝叶斯"
   ]
  },
  {
   "cell_type": "markdown",
   "id": "fc24820f",
   "metadata": {},
   "source": [
    "朴素贝叶斯算法如下：\n",
    "\n",
    "$$max(P(B) * \\prod_{Ai \\in A} P(Ai | B) )$$\n",
    "\n",
    "其中B表示标签， A表示特征\n",
    "\n",
    "如B取值为 ['是'， '否']\n",
    "且A的取值为[1,1,2,2,3,3]\n",
    "那么算法为\n",
    "\n",
    "$$max(P(B=否) * \\prod_{Ai \\in A} P(Ai | B=否), P(B=是) * \\prod_{Ai \\in A} P(Ai | B=是) )$$"
   ]
  },
  {
   "cell_type": "code",
   "execution_count": 10,
   "id": "21c3e1f7",
   "metadata": {},
   "outputs": [],
   "source": [
    "import numpy as np\n",
    "import pandas as pd"
   ]
  },
  {
   "cell_type": "code",
   "execution_count": 11,
   "id": "903d9fb6",
   "metadata": {},
   "outputs": [
    {
     "data": {
      "text/html": [
       "<div>\n",
       "<style scoped>\n",
       "    .dataframe tbody tr th:only-of-type {\n",
       "        vertical-align: middle;\n",
       "    }\n",
       "\n",
       "    .dataframe tbody tr th {\n",
       "        vertical-align: top;\n",
       "    }\n",
       "\n",
       "    .dataframe thead th {\n",
       "        text-align: right;\n",
       "    }\n",
       "</style>\n",
       "<table border=\"1\" class=\"dataframe\">\n",
       "  <thead>\n",
       "    <tr style=\"text-align: right;\">\n",
       "      <th></th>\n",
       "      <th>x1</th>\n",
       "      <th>x2</th>\n",
       "      <th>y</th>\n",
       "    </tr>\n",
       "  </thead>\n",
       "  <tbody>\n",
       "    <tr>\n",
       "      <th>0</th>\n",
       "      <td>1</td>\n",
       "      <td>S</td>\n",
       "      <td>-1</td>\n",
       "    </tr>\n",
       "    <tr>\n",
       "      <th>1</th>\n",
       "      <td>1</td>\n",
       "      <td>M</td>\n",
       "      <td>-1</td>\n",
       "    </tr>\n",
       "    <tr>\n",
       "      <th>2</th>\n",
       "      <td>1</td>\n",
       "      <td>M</td>\n",
       "      <td>1</td>\n",
       "    </tr>\n",
       "    <tr>\n",
       "      <th>3</th>\n",
       "      <td>1</td>\n",
       "      <td>S</td>\n",
       "      <td>1</td>\n",
       "    </tr>\n",
       "    <tr>\n",
       "      <th>4</th>\n",
       "      <td>1</td>\n",
       "      <td>S</td>\n",
       "      <td>-1</td>\n",
       "    </tr>\n",
       "  </tbody>\n",
       "</table>\n",
       "</div>"
      ],
      "text/plain": [
       "   x1 x2  y\n",
       "0   1  S -1\n",
       "1   1  M -1\n",
       "2   1  M  1\n",
       "3   1  S  1\n",
       "4   1  S -1"
      ]
     },
     "execution_count": 11,
     "metadata": {},
     "output_type": "execute_result"
    }
   ],
   "source": [
    "# 创建数据\n",
    "x1 = [1,1,1,1,1,2,2,2,2,2,3,3,3,3,3]\n",
    "x2 = ['S','M','M','S','S','S','M','M','L','L','L','M','M','L','L']\n",
    "y = [-1,-1,1,1,-1,-1,-1,1,1,1,1,1,1,1,-1]\n",
    "\n",
    "df = pd.DataFrame({'x1': x1, 'x2': x2, 'y': y})\n",
    "df.head()"
   ]
  },
  {
   "cell_type": "code",
   "execution_count": 12,
   "id": "f4eb8413",
   "metadata": {},
   "outputs": [],
   "source": [
    "# 提取特征和标签\n",
    "x = df.iloc[:, :-1]\n",
    "y = df[['y']]"
   ]
  },
  {
   "cell_type": "code",
   "execution_count": 14,
   "id": "0a73bde1",
   "metadata": {},
   "outputs": [
    {
     "data": {
      "text/plain": [
       " 1    9\n",
       "-1    6\n",
       "Name: y, dtype: int64"
      ]
     },
     "execution_count": 14,
     "metadata": {},
     "output_type": "execute_result"
    }
   ],
   "source": [
    "class_count = y[y.columns[0]].value_counts()\n",
    "class_count"
   ]
  },
  {
   "cell_type": "code",
   "execution_count": 15,
   "id": "ea56e6ff",
   "metadata": {},
   "outputs": [
    {
     "data": {
      "text/plain": [
       "Index(['x1', 'x2'], dtype='object')"
      ]
     },
     "execution_count": 15,
     "metadata": {},
     "output_type": "execute_result"
    }
   ],
   "source": [
    "x.columns"
   ]
  },
  {
   "cell_type": "code",
   "execution_count": 16,
   "id": "00997394",
   "metadata": {},
   "outputs": [],
   "source": [
    "def nb_fit(x, y):\n",
    "    classes = y[y.columns[0]].unique() # 标签，获得y的标签 -1 或者 1\n",
    "    class_count = y[y.columns[0]].value_counts() # 获得数量 返回series数据\n",
    "    class_prior = class_count / len(y); # 计算出每个标签的概率 \n",
    "    \n",
    "    prior = dict() # 定义返回字典\n",
    "    for col in x.columns:  # col ['x1', 'x2']\n",
    "        for j in classes: # [-1, 1]\n",
    "            # 特征中 当前列里面 当前标签下所有值的数量\n",
    "            # x[y == '-1']['x1'].value_counts() 返回数组Series(标签：数量)\n",
    "            p_x_y = x[(y == j).values][col].value_counts()\n",
    "            print('=============\\np_x_y:\\n  {}\\n================='.format(p_x_y))\n",
    "            for i in p_x_y.index:\n",
    "                prior[(col, i, j)] = p_x_y[i] / class_count[j] # 计算 P(B | A) 即P(特征 | 标签)\n",
    "    return classes, class_prior, prior"
   ]
  },
  {
   "cell_type": "code",
   "execution_count": 17,
   "id": "4936eef6",
   "metadata": {},
   "outputs": [
    {
     "name": "stdout",
     "output_type": "stream",
     "text": [
      "=============\n",
      "p_x_y:\n",
      "  1    3\n",
      "2    2\n",
      "3    1\n",
      "Name: x1, dtype: int64\n",
      "=================\n",
      "=============\n",
      "p_x_y:\n",
      "  3    4\n",
      "2    3\n",
      "1    2\n",
      "Name: x1, dtype: int64\n",
      "=================\n",
      "=============\n",
      "p_x_y:\n",
      "  S    3\n",
      "M    2\n",
      "L    1\n",
      "Name: x2, dtype: int64\n",
      "=================\n",
      "=============\n",
      "p_x_y:\n",
      "  M    4\n",
      "L    4\n",
      "S    1\n",
      "Name: x2, dtype: int64\n",
      "=================\n"
     ]
    },
    {
     "data": {
      "text/plain": [
       "(array([-1,  1], dtype=int64),\n",
       "  1    0.6\n",
       " -1    0.4\n",
       " Name: y, dtype: float64,\n",
       " {('x1', 1, -1): 0.5,\n",
       "  ('x1', 2, -1): 0.3333333333333333,\n",
       "  ('x1', 3, -1): 0.16666666666666666,\n",
       "  ('x1', 3, 1): 0.4444444444444444,\n",
       "  ('x1', 2, 1): 0.3333333333333333,\n",
       "  ('x1', 1, 1): 0.2222222222222222,\n",
       "  ('x2', 'S', -1): 0.5,\n",
       "  ('x2', 'M', -1): 0.3333333333333333,\n",
       "  ('x2', 'L', -1): 0.16666666666666666,\n",
       "  ('x2', 'M', 1): 0.4444444444444444,\n",
       "  ('x2', 'L', 1): 0.4444444444444444,\n",
       "  ('x2', 'S', 1): 0.1111111111111111})"
      ]
     },
     "execution_count": 17,
     "metadata": {},
     "output_type": "execute_result"
    }
   ],
   "source": [
    "nb_fit(x, y)"
   ]
  },
  {
   "cell_type": "code",
   "execution_count": 18,
   "id": "8af5df3c",
   "metadata": {},
   "outputs": [],
   "source": [
    "def predict(x_test):\n",
    "    res = []\n",
    "    for c in classes:\n",
    "        p_y = class_prior[c] # class_prior是一个Serise数组，可以通过索引获得值\n",
    "        p_x_y = 1\n",
    "        \n",
    "        #  dict_items([('x1', 2), ('x2', 'S')])\n",
    "        for i in x_test.items(): \n",
    "            # (x1, 2, -1)* ('x2', 'S', -1) * 0.4   标签-1 \n",
    "            # (x1, 2,  1)* ('x2', 'S', 1) * 0.6   标签+1\n",
    "            p_x_y *= prior[tuple(list(i) + [c])]\n",
    "        res.append(p_y * p_x_y)\n",
    "    print(res)\n",
    "    return classes[np.argmax(res)]"
   ]
  },
  {
   "cell_type": "code",
   "execution_count": 19,
   "id": "17c34c84",
   "metadata": {},
   "outputs": [
    {
     "name": "stdout",
     "output_type": "stream",
     "text": [
      "=============\n",
      "p_x_y:\n",
      "  1    3\n",
      "2    2\n",
      "3    1\n",
      "Name: x1, dtype: int64\n",
      "=================\n",
      "=============\n",
      "p_x_y:\n",
      "  3    4\n",
      "2    3\n",
      "1    2\n",
      "Name: x1, dtype: int64\n",
      "=================\n",
      "=============\n",
      "p_x_y:\n",
      "  S    3\n",
      "M    2\n",
      "L    1\n",
      "Name: x2, dtype: int64\n",
      "=================\n",
      "=============\n",
      "p_x_y:\n",
      "  M    4\n",
      "L    4\n",
      "S    1\n",
      "Name: x2, dtype: int64\n",
      "=================\n",
      "[0.06666666666666667, 0.02222222222222222]\n",
      "测试数据预测类别为： -1\n"
     ]
    }
   ],
   "source": [
    "X_test = {'x1': 2, 'x2': 'S'}\n",
    "classes, class_prior, prior = nb_fit(x, y) \n",
    "# class_prior 为 P(B) 即 P(标签)\n",
    "# prior 为 所有的 P(B | A)\n",
    "print('测试数据预测类别为：', predict(X_test))"
   ]
  },
  {
   "cell_type": "code",
   "execution_count": 20,
   "id": "4c721c5c",
   "metadata": {},
   "outputs": [
    {
     "data": {
      "text/plain": [
       "dict_items([('x1', 2), ('x2', 'S')])"
      ]
     },
     "execution_count": 20,
     "metadata": {},
     "output_type": "execute_result"
    }
   ],
   "source": [
    "X_test.items()"
   ]
  },
  {
   "cell_type": "markdown",
   "id": "8034ba27",
   "metadata": {},
   "source": [
    "## 类式封装"
   ]
  },
  {
   "cell_type": "code",
   "execution_count": 21,
   "id": "296206ef",
   "metadata": {},
   "outputs": [
    {
     "name": "stdout",
     "output_type": "stream",
     "text": [
      "测试数据预测类别为： -1\n"
     ]
    }
   ],
   "source": [
    "class Naive_Bayes:\n",
    "    def __init__(self):\n",
    "        pass\n",
    "\n",
    "    # 朴素贝叶斯训练过程\n",
    "    def nb_fit(self, X, y):\n",
    "        classes = y[y.columns[0]].unique()\n",
    "        class_count = y[y.columns[0]].value_counts()\n",
    "        # 类先验概率\n",
    "        class_prior = class_count / len(y)\n",
    "        # 计算类条件概率\n",
    "        prior = dict()\n",
    "        for col in X.columns:\n",
    "            for j in classes:\n",
    "                p_x_y = X[(y == j).values][col].value_counts()\n",
    "                for i in p_x_y.index:\n",
    "                    prior[(col, i, j)] = p_x_y[i] / class_count[j]\n",
    "\n",
    "        return classes, class_prior, prior\n",
    "\n",
    "    # 预测新的实例\n",
    "    def predict(self, X_test):\n",
    "        res = []\n",
    "        for c in classes:\n",
    "            p_y = class_prior[c]\n",
    "            p_x_y = 1\n",
    "            for i in X_test.items():\n",
    "                p_x_y *= prior[tuple(list(i) + [c])]\n",
    "            res.append(p_y * p_x_y)\n",
    "        return classes[np.argmax(res)]\n",
    "\n",
    "\n",
    "if __name__ == \"__main__\":\n",
    "    x1 = [1, 1, 1, 1, 1, 2, 2, 2, 2, 2, 3, 3, 3, 3, 3]\n",
    "    x2 = ['S', 'M', 'M', 'S', 'S', 'S', 'M', 'M', 'L', 'L', 'L', 'M', 'M', 'L', 'L']\n",
    "    y = [-1, -1, 1, 1, -1, -1, -1, 1, 1, 1, 1, 1, 1, 1, -1]\n",
    "    df = pd.DataFrame({'x1': x1, 'x2': x2, 'y': y})\n",
    "    X = df[['x1', 'x2']]\n",
    "    y = df[['y']]\n",
    "    X_test = {'x1': 2, 'x2': 'S'}\n",
    "\n",
    "    nb = Naive_Bayes()\n",
    "    classes, class_prior, prior = nb.nb_fit(X, y)\n",
    "    print('测试数据预测类别为：', nb.predict(X_test))"
   ]
  },
  {
   "cell_type": "code",
   "execution_count": null,
   "id": "47ffca3d",
   "metadata": {},
   "outputs": [],
   "source": []
  }
 ],
 "metadata": {
  "kernelspec": {
   "display_name": "Python 3",
   "language": "python",
   "name": "python3"
  },
  "language_info": {
   "codemirror_mode": {
    "name": "ipython",
    "version": 3
   },
   "file_extension": ".py",
   "mimetype": "text/x-python",
   "name": "python",
   "nbconvert_exporter": "python",
   "pygments_lexer": "ipython3",
   "version": "3.8.8"
  }
 },
 "nbformat": 4,
 "nbformat_minor": 5
}
