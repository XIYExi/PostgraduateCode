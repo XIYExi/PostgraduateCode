{
 "cells": [
  {
   "cell_type": "markdown",
   "id": "af919e3d",
   "metadata": {},
   "source": [
    "# 线性回归\n",
    "\n",
    "---\n",
    "\n",
    "- [函数式编程](#函数式编程)\n",
    "\n",
    "- [类式编程](#类式编程)"
   ]
  },
  {
   "cell_type": "code",
   "execution_count": 1,
   "id": "f3b104ec",
   "metadata": {},
   "outputs": [],
   "source": [
    "import numpy as np"
   ]
  },
  {
   "cell_type": "markdown",
   "id": "6e02d25f",
   "metadata": {},
   "source": [
    "## 函数式编程\n",
    "### 模型主体 损失函数"
   ]
  },
  {
   "cell_type": "code",
   "execution_count": 2,
   "id": "ad933c53",
   "metadata": {},
   "outputs": [],
   "source": [
    "def linear_loss(X, y, w, b):\n",
    "    num_train = X.shape[0]\n",
    "    num_feature = X.shape[1]\n",
    "    # 公式 预测值 yi\n",
    "    y_hat = np.dot(X, w) + b\n",
    "    # 损失函数\n",
    "    loss = np.sum( (y_hat - y) ** 2) / num_train\n",
    "    # 求偏导\n",
    "    dw = np.dot(X.T, (y_hat - y)) / num_train\n",
    "    db = np.sum((y_hat - y)) / num_train\n",
    "    return y_hat, loss, dw, db"
   ]
  },
  {
   "cell_type": "markdown",
   "id": "fd7540b1",
   "metadata": {},
   "source": [
    "### 参数初始化"
   ]
  },
  {
   "cell_type": "code",
   "execution_count": 3,
   "id": "7096e70f",
   "metadata": {},
   "outputs": [],
   "source": [
    "def initialize_params(dims):\n",
    "    w = np.zeros((dims, 1))\n",
    "    b = 0\n",
    "    return w, b"
   ]
  },
  {
   "cell_type": "markdown",
   "id": "2cd6d721",
   "metadata": {},
   "source": [
    "### 梯度下降 训练"
   ]
  },
  {
   "cell_type": "code",
   "execution_count": 4,
   "id": "01503cec",
   "metadata": {},
   "outputs": [],
   "source": [
    "def linar_train(X, y, learning_rate, epochs):\n",
    "    w, b = initialize_params(X.shape[1])\n",
    "    loss_list = []\n",
    "    for i in range(1, epochs):\n",
    "        # 计算当前预测值，损失和偏导\n",
    "        y_hat, loss, dw, db = linear_loss(X, y, w, b)\n",
    "        loss_list.append(loss)\n",
    "        \n",
    "        # 梯度下降更新参数\n",
    "        w += -learning_rate * dw\n",
    "        b += -learning_rate * db\n",
    "        \n",
    "        # 打印迭代次数和损失\n",
    "        if i % 10000 == 0:\n",
    "            print('epoch %d loss %f' % (i, loss)) \n",
    "        \n",
    "        # 保存参数\n",
    "        params = {\n",
    "            'w': w,\n",
    "            'b': b\n",
    "        }\n",
    "        # 保存梯度\n",
    "        grads = {\n",
    "            'dw': dw,\n",
    "            'db': db\n",
    "        }\n",
    "        \n",
    "    return loss_list, loss, params, grads"
   ]
  },
  {
   "cell_type": "markdown",
   "id": "815c318c",
   "metadata": {},
   "source": [
    "### 测试案例"
   ]
  },
  {
   "cell_type": "code",
   "execution_count": 5,
   "id": "c2b1f7a9",
   "metadata": {},
   "outputs": [
    {
     "name": "stdout",
     "output_type": "stream",
     "text": [
      "X_train= (397, 10)\n",
      "X_test= (45, 10)\n",
      "y_train= (397, 1)\n",
      "y_test= (45, 1)\n"
     ]
    }
   ],
   "source": [
    "from sklearn.datasets import load_diabetes\n",
    "from sklearn.utils import shuffle\n",
    "\n",
    "diabetes = load_diabetes()\n",
    "data = diabetes.data\n",
    "target = diabetes.target\n",
    "\n",
    "# 打乱数据\n",
    "X, y = shuffle(data, target, random_state=13)\n",
    "X = X.astype(np.float32)\n",
    "\n",
    "# 训练集和测试集简单划分\n",
    "offset = int(X.shape[0] * 0.9)\n",
    "X_train, y_train = X[:offset], y[:offset]\n",
    "X_test, y_test = X[offset:], y[offset:]\n",
    "y_train = y_train.reshape((-1,1))\n",
    "y_test = y_test.reshape((-1,1))\n",
    "\n",
    "print('X_train= {0}'.format(X_train.shape))\n",
    "print('X_test= {0}'.format(X_test.shape))\n",
    "print('y_train= {0}'.format(y_train.shape))\n",
    "print('y_test= {0}'.format(y_test.shape))"
   ]
  },
  {
   "cell_type": "markdown",
   "id": "38b7fdd7",
   "metadata": {},
   "source": [
    "### 训练模型"
   ]
  },
  {
   "cell_type": "code",
   "execution_count": 6,
   "id": "3657a949",
   "metadata": {},
   "outputs": [
    {
     "name": "stdout",
     "output_type": "stream",
     "text": [
      "epoch 10000 loss 5533.039734\n",
      "epoch 20000 loss 5217.582409\n",
      "epoch 30000 loss 4949.676466\n",
      "epoch 40000 loss 4721.504031\n",
      "epoch 50000 loss 4526.567333\n",
      "epoch 60000 loss 4359.463960\n",
      "epoch 70000 loss 4215.700505\n",
      "epoch 80000 loss 4091.538010\n",
      "epoch 90000 loss 3983.863771\n"
     ]
    }
   ],
   "source": [
    "loss_list, loss, params, grads = linar_train(X_train, y_train, 0.001, 100000)"
   ]
  },
  {
   "cell_type": "code",
   "execution_count": 7,
   "id": "81aeaf79",
   "metadata": {},
   "outputs": [
    {
     "name": "stdout",
     "output_type": "stream",
     "text": [
      "{'w': array([[  44.07229775],\n",
      "       [  -6.99872355],\n",
      "       [ 157.0665895 ],\n",
      "       [ 118.32921584],\n",
      "       [  37.47920655],\n",
      "       [  24.97681831],\n",
      "       [-104.31188822],\n",
      "       [ 104.03504877],\n",
      "       [ 148.85521477],\n",
      "       [  94.07047013]]), 'b': 151.57222424703687}\n"
     ]
    }
   ],
   "source": [
    "print(params)"
   ]
  },
  {
   "cell_type": "markdown",
   "id": "0bde9456",
   "metadata": {},
   "source": [
    "### 预测"
   ]
  },
  {
   "cell_type": "code",
   "execution_count": 8,
   "id": "fb79cea2",
   "metadata": {},
   "outputs": [],
   "source": [
    "def predict(X, params):\n",
    "    w = params['w']\n",
    "    b = params['b']\n",
    "    y_pred = np.dot(X, w) + b;\n",
    "    return y_pred"
   ]
  },
  {
   "cell_type": "code",
   "execution_count": 9,
   "id": "74695f64",
   "metadata": {},
   "outputs": [
    {
     "data": {
      "text/plain": [
       "array([[132.02545017],\n",
       "       [141.77423134],\n",
       "       [150.48352021],\n",
       "       [128.48666753],\n",
       "       [147.29312454]])"
      ]
     },
     "execution_count": 9,
     "metadata": {},
     "output_type": "execute_result"
    }
   ],
   "source": [
    "y_pred = predict(X_test, params)\n",
    "y_pred[:5]"
   ]
  },
  {
   "cell_type": "markdown",
   "id": "08be907b",
   "metadata": {},
   "source": [
    "### 绘图"
   ]
  },
  {
   "cell_type": "code",
   "execution_count": 11,
   "id": "2a56662c",
   "metadata": {},
   "outputs": [
    {
     "data": {
      "image/png": "[encoded data removed]",
      "text/plain": [
       "<Figure size 432x288 with 1 Axes>"
      ]
     },
     "metadata": {
      "needs_background": "light"
     },
     "output_type": "display_data"
    }
   ],
   "source": [
    "import matplotlib.pyplot as plt\n",
    "f = X_test.dot(params['w']) + params['b']\n",
    "\n",
    "plt.scatter(range(X_test.shape[0]), y_test)\n",
    "plt.plot(f, color='darkorange')\n",
    "plt.xlabel('x')\n",
    "plt.ylabel('y')\n",
    "plt.show()"
   ]
  },
  {
   "cell_type": "markdown",
   "id": "92c024db",
   "metadata": {},
   "source": [
    "### 训练过程中的损失下降"
   ]
  },
  {
   "cell_type": "code",
   "execution_count": 12,
   "id": "aa7114dc",
   "metadata": {},
   "outputs": [
    {
     "data": {
      "image/png": "[encoded data removed]",
      "text/plain": [
       "<Figure size 432x288 with 1 Axes>"
      ]
     },
     "metadata": {
      "needs_background": "light"
     },
     "output_type": "display_data"
    }
   ],
   "source": [
    "plt.plot(loss_list, color='blue')\n",
    "plt.xlabel('epochs')\n",
    "plt.ylabel('loss')\n",
    "plt.show()"
   ]
  },
  {
   "cell_type": "markdown",
   "id": "a95502a2",
   "metadata": {},
   "source": [
    "---\n",
    "# 类式编程\n",
    "\n",
    "- 封装一个线性回归类"
   ]
  },
  {
   "cell_type": "code",
   "execution_count": 23,
   "id": "eb53bfaf",
   "metadata": {},
   "outputs": [],
   "source": [
    "import numpy as np\n",
    "from sklearn.utils import shuffle\n",
    "from sklearn.datasets import load_diabetes\n",
    "\n",
    "class lr_model():\n",
    "    def __init__(self):\n",
    "        pass\n",
    "    \n",
    "    def prepare_data(self):\n",
    "        data = load_diabetes().data\n",
    "        target = load_diabetes().target\n",
    "        X, y = shuffle(data, target, random_state=42)\n",
    "        X = X.astype(np.float32)\n",
    "        y = y.reshape((-1, 1))\n",
    "        data = np.concatenate((X, y), axis=1)\n",
    "        return data\n",
    "    \n",
    "    def initialize_params(self, dims):\n",
    "        w = np.zeros((dims, 1))\n",
    "        b = 0\n",
    "        return w, b\n",
    "    \n",
    "    def linear_loss(self, X, y, w, b):\n",
    "        num_train = X.shape[0]\n",
    "        num_feature = X.shape[1]\n",
    "        \n",
    "        y_hat = np.dot(X, w) + b\n",
    "        loss = np.sum( (y_hat - y) ** 2 ) / num_train\n",
    "        dw = np.dot(X.T, (y_hat - y)) / num_train\n",
    "        db = np.sum((y_hat - y)) / num_train\n",
    "        return y_hat, loss, dw, db\n",
    "    \n",
    "    def linear_train(self, X, y, learning_rate, epochs):\n",
    "        w, b = self.initialize_params(X.shape[1])\n",
    "        for i in range(1, epochs):\n",
    "            y_hat, loss, dw, db = linear_loss(X, y, w, b)\n",
    "            w += -learning_rate * dw\n",
    "            b += -learning_rate * db\n",
    "            if i % 10000 == 0:\n",
    "                print('epoch {0} loss {1}'.format(i, loss))\n",
    "            \n",
    "            params = {\n",
    "                'w': w,\n",
    "                'b': b\n",
    "            }\n",
    "            grads = {\n",
    "                'dw':dw,\n",
    "                'db':db\n",
    "            }\n",
    "        return loss,params,grads\n",
    "\n",
    "    def predict(self, X, params):\n",
    "        w = params['w']\n",
    "        b = params['b']\n",
    "        y_pred = np.dot(X, w) + b\n",
    "        return y_pred\n",
    "    \n",
    "    def linear_cross_validation(self, data, k, randomize=True):        \n",
    "        if randomize:\n",
    "            data = list(data)\n",
    "            shuffle(data)\n",
    "\n",
    "        slices = [data[i::k] for i in range(k)]        \n",
    "        for i in range(k):\n",
    "            validation = slices[i]\n",
    "            train = [data                        \n",
    "            for s in slices if s is not validation for data in s]\n",
    "            train = np.array(train)\n",
    "            validation = np.array(validation)            \n",
    "            yield train, validation"
   ]
  },
  {
   "cell_type": "code",
   "execution_count": 24,
   "id": "96fa9601",
   "metadata": {},
   "outputs": [
    {
     "name": "stdout",
     "output_type": "stream",
     "text": [
      "epoch 10000 loss 5611.704502478564\n",
      "epoch 20000 loss 5258.726276801027\n",
      "epoch 30000 loss 4960.2718112554985\n",
      "epoch 40000 loss 4707.234956681375\n",
      "epoch 50000 loss 4492.067734424241\n",
      "epoch 60000 loss 4308.5117235013295\n",
      "epoch 70000 loss 4151.375891647112\n",
      "epoch 80000 loss 4016.3528004708087\n",
      "epoch 90000 loss 3899.8665512289713\n",
      "five kold cross validation score is 3798.9563843996484\n",
      "valid score is 4214.092765494475\n",
      "epoch 10000 loss 5421.16840376138\n",
      "epoch 20000 loss 5106.640863581357\n",
      "epoch 30000 loss 4838.968256863074\n",
      "epoch 40000 loss 4610.442887132758\n",
      "epoch 50000 loss 4414.6618742708415\n",
      "epoch 60000 loss 4246.304448852243\n",
      "epoch 70000 loss 4100.94737863565\n",
      "epoch 80000 loss 3974.9119614775136\n",
      "epoch 90000 loss 3865.137181684814\n",
      "five kold cross validation score is 3769.0835464956263\n",
      "valid score is 4615.051403980545\n",
      "epoch 10000 loss 5586.6523422805485\n",
      "epoch 20000 loss 5295.082495919437\n",
      "epoch 30000 loss 5044.857032863054\n",
      "epoch 40000 loss 4829.540681339524\n",
      "epoch 50000 loss 4643.729724208652\n",
      "epoch 60000 loss 4482.885114580035\n",
      "epoch 70000 loss 4343.192698995414\n",
      "epoch 80000 loss 4221.446108460689\n",
      "epoch 90000 loss 4114.948637400532\n",
      "five kold cross validation score is 4021.439797419828\n",
      "valid score is 3787.77408008022\n",
      "epoch 10000 loss 5611.711211355896\n",
      "epoch 20000 loss 5329.043483605161\n",
      "epoch 30000 loss 5085.368704097139\n",
      "epoch 40000 loss 4874.725778922321\n",
      "epoch 50000 loss 4692.097615709128\n",
      "epoch 60000 loss 4533.259844646681\n",
      "epoch 70000 loss 4394.653911600204\n",
      "epoch 80000 loss 4273.280577957886\n",
      "epoch 90000 loss 4166.610540702237\n",
      "five kold cross validation score is 4072.518260076695\n",
      "valid score is 3549.9681755234265\n",
      "epoch 10000 loss 5585.410481918787\n",
      "epoch 20000 loss 5280.637798702091\n",
      "epoch 30000 loss 5020.541759320256\n",
      "epoch 40000 loss 4798.003288044116\n",
      "epoch 50000 loss 4607.0687714768155\n",
      "epoch 60000 loss 4442.757611330805\n",
      "epoch 70000 loss 4300.901672819302\n",
      "epoch 80000 loss 4178.01130522053\n",
      "epoch 90000 loss 4071.163532420468\n",
      "five kold cross validation score is 3977.917458102055\n",
      "valid score is 3855.0420442947343\n"
     ]
    }
   ],
   "source": [
    "if __name__ == '__main__':\n",
    "    lr = lr_model()\n",
    "    data = lr.prepare_data()   \n",
    " \n",
    "    for train, validation in lr.linear_cross_validation(data, 5):\n",
    "        X_train = train[:, :10]\n",
    "        y_train = train[:, -1].reshape((-1, 1))\n",
    "        X_valid = validation[:, :10]\n",
    "        y_valid = validation[:, -1].reshape((-1, 1))\n",
    "\n",
    "        loss5 = []\n",
    "        loss, params, grads = lr.linear_train(X_train, y_train, 0.001, 100000)\n",
    "        loss5.append(loss)\n",
    "        score = np.mean(loss5)\n",
    "        print('five kold cross validation score is', score)\n",
    "        y_pred = lr.predict(X_valid, params)\n",
    "        valid_score = np.sum(((y_pred - y_valid) ** 2)) / len(X_valid)\n",
    "        print('valid score is', valid_score)"
   ]
  },
  {
   "cell_type": "code",
   "execution_count": null,
   "id": "4fdddc76",
   "metadata": {},
   "outputs": [],
   "source": []
  }
 ],
 "metadata": {
  "kernelspec": {
   "display_name": "Python 3",
   "language": "python",
   "name": "python3"
  },
  "language_info": {
   "codemirror_mode": {
    "name": "ipython",
    "version": 3
   },
   "file_extension": ".py",
   "mimetype": "text/x-python",
   "name": "python",
   "nbconvert_exporter": "python",
   "pygments_lexer": "ipython3",
   "version": "3.8.8"
  }
 },
 "nbformat": 4,
 "nbformat_minor": 5
}
