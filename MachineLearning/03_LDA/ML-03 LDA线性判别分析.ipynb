{
 "cells": [
  {
   "cell_type": "markdown",
   "id": "d51a6194",
   "metadata": {},
   "source": [
    "# LDA 线性判别\n",
    "\n",
    "<a \n",
    "   href='https://www.bilibili.com/video/BV1k5411T7u5/?spm_id_from=333.337.search-card.all.click&vd_source=36a09b82c71dff08b1927ad8f0c1d3e3'\n",
    "   target='_bank'>关于西瓜书上LDA推导式的由来</a>\n",
    "   "
   ]
  },
  {
   "cell_type": "code",
   "execution_count": 1,
   "id": "5e68f666",
   "metadata": {},
   "outputs": [],
   "source": [
    "import numpy as np"
   ]
  },
  {
   "cell_type": "code",
   "execution_count": 2,
   "id": "a9252894",
   "metadata": {},
   "outputs": [],
   "source": [
    "class LDA():\n",
    "    def __init__(self):\n",
    "        self.w = None\n",
    "        \n",
    "        def calculate_covariance_matrix(self, X, Y=None):\n",
    "            # 计算协方差矩阵\n",
    "            m = X.shape[0]\n",
    "            X = X - np.mean(X, axis=0)\n",
    "            Y = Y if Y == None else Y - np.mean(Y, axis = 0)\n",
    "            return 1 / m * np.matmul(X.T, Y)\n",
    "        \n",
    "    # LDA拟合过程\n",
    "    def fit(self, X, y):\n",
    "        \n",
    "        # 1 - 分类\n",
    "        X0 = X[y == 0]\n",
    "        X1 = X[y == 1]\n",
    "        \n",
    "        # 2 - 计算均值、方差\n",
    "        u0, u1 = X1.mean(0), X2.mean(0)\n",
    "        mean_diff = np.atleast_1d(u0 - u1)\n",
    "        \n",
    "        # 3 - 计算类内散度矩阵\n",
    "        sigma0 = self.calculate_covariance_matrix(X0)\n",
    "        sigma1 = self.calculate_covariance_matrix(X1)\n",
    "        Sw = sigma0 + sigma1\n",
    "        \n",
    "          # 4 - 对类内散度矩阵进行奇异值分解\n",
    "        U, S, V = np.linalg.svd(Sw)\n",
    "        \n",
    "        # 5 - 计算类内散度矩阵的逆\n",
    "        Sw_ = np.dot(np.dot(V.T, np.linalg.pinv(S)), U.T)\n",
    "        \n",
    "        # 6 - 计算w\n",
    "        self.w = Sw_.dot(mean_diff)\n",
    "        \n",
    "        \n",
    "     # 对数据进行向量转换\n",
    "    def transform(self, X, y):\n",
    "        self.fit(X, y)\n",
    "        X_transform = X.dot(self.w)\n",
    "        return X_transform\n",
    "    \n",
    "    # LDA分类预测\n",
    "    def predict(self, X):\n",
    "        y_pred = []\n",
    "        for sample in X:\n",
    "            h = sample.dot(self.w)\n",
    "            y = 1 * (h < 0)\n",
    "            y_pred.append(y)\n",
    "        return y_pred"
   ]
  },
  {
   "cell_type": "code",
   "execution_count": null,
   "id": "34c9a3a9",
   "metadata": {},
   "outputs": [],
   "source": []
  }
 ],
 "metadata": {
  "kernelspec": {
   "display_name": "Python 3",
   "language": "python",
   "name": "python3"
  },
  "language_info": {
   "codemirror_mode": {
    "name": "ipython",
    "version": 3
   },
   "file_extension": ".py",
   "mimetype": "text/x-python",
   "name": "python",
   "nbconvert_exporter": "python",
   "pygments_lexer": "ipython3",
   "version": "3.8.8"
  }
 },
 "nbformat": 4,
 "nbformat_minor": 5
}
